{
  "nbformat": 4,
  "nbformat_minor": 0,
  "metadata": {
    "accelerator": "GPU",
    "colab": {
      "name": "Autonomous_submarine_gate.ipynb",
      "provenance": [],
      "private_outputs": true,
      "collapsed_sections": [],
      "include_colab_link": true
    },
    "kernelspec": {
      "name": "python3",
      "display_name": "Python 3"
    }
  },
  "cells": [
    {
      "cell_type": "markdown",
      "metadata": {
        "id": "view-in-github",
        "colab_type": "text"
      },
      "source": [
        "<a href=\"https://colab.research.google.com/github/nickchak21/Images_Model_Gate_Detection/blob/master/Autonomous_submarine_gate.ipynb\" target=\"_parent\"><img src=\"https://colab.research.google.com/assets/colab-badge.svg\" alt=\"Open In Colab\"/></a>"
      ]
    },
    {
      "cell_type": "markdown",
      "metadata": {
        "colab_type": "text",
        "id": "V8-yl-s-WKMG"
      },
      "source": [
        "# Autonomous Submarine Gate Detection Notebook"
      ]
    },
    {
      "cell_type": "markdown",
      "metadata": {
        "colab_type": "text",
        "id": "3cIrseUv6WKz"
      },
      "source": [
        "Welcome to the [Object Detection API](https://github.com/tensorflow/models/tree/master/research/object_detection). This notebook will walk you step by step through the process of using a pre-trained model to detect objects in an image."
      ]
    },
    {
      "cell_type": "markdown",
      "metadata": {
        "colab_type": "text",
        "id": "VrJaG0cYN9yh"
      },
      "source": [
        "> **Important**: This tutorial is to help you through the first step towards using [Object Detection API](https://github.com/tensorflow/models/tree/master/research/object_detection) to build models. If you just just need an off the shelf model that does the job, see the [TFHub object detection example](https://colab.sandbox.google.com/github/tensorflow/hub/blob/master/examples/colab/object_detection.ipynb)."
      ]
    },
    {
      "cell_type": "markdown",
      "metadata": {
        "colab_type": "text",
        "id": "kFSqkTCdWKMI"
      },
      "source": [
        "# Setup"
      ]
    },
    {
      "cell_type": "markdown",
      "metadata": {
        "colab_type": "text",
        "id": "awjrpqy-6MaQ"
      },
      "source": [
        "Important: If you're running on a local machine, be sure to follow the [installation instructions](https://github.com/tensorflow/models/blob/master/research/object_detection/g3doc/installation.md). This notebook includes only what's necessary to run in Colab."
      ]
    },
    {
      "cell_type": "markdown",
      "metadata": {
        "colab_type": "text",
        "id": "p3UGXxUii5Ym"
      },
      "source": [
        "### Install"
      ]
    },
    {
      "cell_type": "code",
      "metadata": {
        "colab_type": "code",
        "id": "hGL97-GXjSUw",
        "colab": {}
      },
      "source": [
        "!pip install -U --pre tensorflow==\"2.*\""
      ],
      "execution_count": 0,
      "outputs": []
    },
    {
      "cell_type": "markdown",
      "metadata": {
        "colab_type": "text",
        "id": "n_ap_s9ajTHH"
      },
      "source": [
        "Make sure you have `pycocotools` installed"
      ]
    },
    {
      "cell_type": "code",
      "metadata": {
        "colab_type": "code",
        "id": "Bg8ZyA47i3pY",
        "colab": {}
      },
      "source": [
        "!pip install pycocotools"
      ],
      "execution_count": 0,
      "outputs": []
    },
    {
      "cell_type": "markdown",
      "metadata": {
        "colab_type": "text",
        "id": "-vsOL3QR6kqs"
      },
      "source": [
        "Get `tensorflow/models` or `cd` to parent directory of the repository."
      ]
    },
    {
      "cell_type": "code",
      "metadata": {
        "colab_type": "code",
        "id": "ykA0c-om51s1",
        "colab": {}
      },
      "source": [
        "import os\n",
        "import pathlib\n",
        "\n",
        "\n",
        "if \"models\" in pathlib.Path.cwd().parts:\n",
        "  while \"models\" in pathlib.Path.cwd().parts:\n",
        "    os.chdir('..')\n",
        "elif not pathlib.Path('models').exists():\n",
        "  !git clone --depth 1 https://github.com/tensorflow/models"
      ],
      "execution_count": 0,
      "outputs": []
    },
    {
      "cell_type": "markdown",
      "metadata": {
        "colab_type": "text",
        "id": "O219m6yWAj9l"
      },
      "source": [
        "Compile protobufs and install the object_detection package"
      ]
    },
    {
      "cell_type": "code",
      "metadata": {
        "id": "kU53uTzD5y_0",
        "colab_type": "code",
        "colab": {}
      },
      "source": [
        "!git clone https://github.com/EdjeElectronics/TensorFlow-Object-Detection-API-Tutorial-Train-Multiple-Objects-Windows-10.git"
      ],
      "execution_count": 0,
      "outputs": []
    },
    {
      "cell_type": "code",
      "metadata": {
        "id": "xR3dYyK7Batj",
        "colab_type": "code",
        "colab": {}
      },
      "source": [
        "mv  -v TensorFlow-Object-Detection-API-Tutorial-Train-Multiple-Objects-Windows-10/* models/research/object_detection"
      ],
      "execution_count": 0,
      "outputs": []
    },
    {
      "cell_type": "code",
      "metadata": {
        "colab_type": "code",
        "id": "PY41vdYYNlXc",
        "colab": {}
      },
      "source": [
        "%%bash\n",
        "cd models/research/\n",
        "protoc object_detection/protos/*.proto --python_out=."
      ],
      "execution_count": 0,
      "outputs": []
    },
    {
      "cell_type": "code",
      "metadata": {
        "colab_type": "code",
        "id": "s62yJyQUcYbp",
        "colab": {}
      },
      "source": [
        "%%bash \n",
        "cd models/research\n",
        "pip install ."
      ],
      "execution_count": 0,
      "outputs": []
    },
    {
      "cell_type": "code",
      "metadata": {
        "id": "ho7hIvUZDIqE",
        "colab_type": "code",
        "colab": {}
      },
      "source": [
        "!pip install pillow\n",
        "!pip install lxml\n",
        "!pip install Cython\n",
        "!pip install contextlib2\n",
        "!pip install jupyter\n",
        "!pip install matplotlib\n",
        "!pip install pandas\n",
        "!pip install opencv-python"
      ],
      "execution_count": 0,
      "outputs": []
    },
    {
      "cell_type": "code",
      "metadata": {
        "id": "OY72PqXWIPJq",
        "colab_type": "code",
        "colab": {}
      },
      "source": [
        "!pip install protobuf"
      ],
      "execution_count": 0,
      "outputs": []
    },
    {
      "cell_type": "markdown",
      "metadata": {
        "id": "D4vnI0lo5SL-",
        "colab_type": "text"
      },
      "source": [
        "Loading training and testing images and labels, getting rid of old train/test images and labels"
      ]
    },
    {
      "cell_type": "code",
      "metadata": {
        "id": "-uPHOKNWI-As",
        "colab_type": "code",
        "colab": {}
      },
      "source": [
        "from google.colab import files\n",
        "uploaded = files.upload()"
      ],
      "execution_count": 0,
      "outputs": []
    },
    {
      "cell_type": "code",
      "metadata": {
        "id": "97b17VyWb-id",
        "colab_type": "code",
        "colab": {}
      },
      "source": [
        "!unzip -uq \"approach1_frames_train.zip\" -d \"models/research/object_detection/images/train\""
      ],
      "execution_count": 0,
      "outputs": []
    },
    {
      "cell_type": "code",
      "metadata": {
        "id": "bAluc5n1dU1i",
        "colab_type": "code",
        "colab": {}
      },
      "source": [
        "from google.colab import files\n",
        "uploaded = files.upload()"
      ],
      "execution_count": 0,
      "outputs": []
    },
    {
      "cell_type": "code",
      "metadata": {
        "id": "mnHsxySxdWYO",
        "colab_type": "code",
        "colab": {}
      },
      "source": [
        "!unzip -uq \"approach1_frames_test.zip\" -d \"models/research/object_detection/images/test\""
      ],
      "execution_count": 0,
      "outputs": []
    },
    {
      "cell_type": "code",
      "metadata": {
        "id": "pf6-knzWdtjT",
        "colab_type": "code",
        "colab": {}
      },
      "source": [
        "!ls models/research/object_detection/images/train"
      ],
      "execution_count": 0,
      "outputs": []
    },
    {
      "cell_type": "code",
      "metadata": {
        "id": "TNtEgpxCeCJM",
        "colab_type": "code",
        "colab": {}
      },
      "source": [
        "!rm models/research/object_detection/images/train/*.JPG"
      ],
      "execution_count": 0,
      "outputs": []
    },
    {
      "cell_type": "code",
      "metadata": {
        "id": "L_w6CeIreV8g",
        "colab_type": "code",
        "colab": {}
      },
      "source": [
        "!rm models/research/object_detection/images/train/*.xml"
      ],
      "execution_count": 0,
      "outputs": []
    },
    {
      "cell_type": "code",
      "metadata": {
        "id": "-CfcGgsWdx0M",
        "colab_type": "code",
        "colab": {}
      },
      "source": [
        "!rm models/research/object_detection/images/train/*.jpg"
      ],
      "execution_count": 0,
      "outputs": []
    },
    {
      "cell_type": "code",
      "metadata": {
        "id": "MJiBFcmpefhA",
        "colab_type": "code",
        "colab": {}
      },
      "source": [
        "!mv models/research/object_detection/images/train/approach1_frames_train/* models/research/object_detection/images/train"
      ],
      "execution_count": 0,
      "outputs": []
    },
    {
      "cell_type": "code",
      "metadata": {
        "id": "F4_-VBjPewo9",
        "colab_type": "code",
        "colab": {}
      },
      "source": [
        "!rmdir models/research/object_detection/images/train/approach1_frames_train"
      ],
      "execution_count": 0,
      "outputs": []
    },
    {
      "cell_type": "code",
      "metadata": {
        "id": "y21Y8U66fBx8",
        "colab_type": "code",
        "colab": {}
      },
      "source": [
        "!rm models/research/object_detection/images/test/*.JPG\n",
        "!rm models/research/object_detection/images/test/*.xml"
      ],
      "execution_count": 0,
      "outputs": []
    },
    {
      "cell_type": "code",
      "metadata": {
        "id": "xyxG-knjf083",
        "colab_type": "code",
        "colab": {}
      },
      "source": [
        "!rm models/research/object_detection/images/test/*.jpg"
      ],
      "execution_count": 0,
      "outputs": []
    },
    {
      "cell_type": "code",
      "metadata": {
        "id": "RERTH4EIf7ZI",
        "colab_type": "code",
        "colab": {}
      },
      "source": [
        "!mv models/research/object_detection/images/test/approach1_frames_test/* models/research/object_detection/images/test\n",
        "!rmdir models/research/object_detection/images/test/approach1_frames_test"
      ],
      "execution_count": 0,
      "outputs": []
    },
    {
      "cell_type": "code",
      "metadata": {
        "id": "9ovv0bN4ffgq",
        "colab_type": "code",
        "colab": {}
      },
      "source": [
        "!ls models/research/object_detection/images/test"
      ],
      "execution_count": 0,
      "outputs": []
    },
    {
      "cell_type": "code",
      "metadata": {
        "id": "dWJkcVzXjUwb",
        "colab_type": "code",
        "colab": {}
      },
      "source": [
        "!rm models/research/object_detection/images/train/frame341.jpg models/research/object_detection/images/train/frame354.jpg models/research/object_detection/images/train/frame335.jpg models/research/object_detection/images/train/frame336.jpg models/research/object_detection/images/train/frame352.jpg models/research/object_detection/images/train/frame347.jpg models/research/object_detection/images/train/frame337.jpg models/research/object_detection/images/train/frame343.jpg models/research/object_detection/images/train/frame338.jpg models/research/object_detection/images/train/frame334.jpg models/research/object_detection/images/train/frame339.jpg models/research/object_detection/images/train/frame356.jpg models/research/object_detection/images/train/frame340.jpg models/research/object_detection/images/train/frame350.jpg models/research/object_detection/images/train/frame344.jpg models/research/object_detection/images/train/frame346.jpg models/research/object_detection/images/train/frame342.jpg models/research/object_detection/images/train/frame355.jpg models/research/object_detection/images/train/frame349.jpg models/research/object_detection/images/train/frame345.jpg"
      ],
      "execution_count": 0,
      "outputs": []
    },
    {
      "cell_type": "code",
      "metadata": {
        "id": "G6kYAogAlcY0",
        "colab_type": "code",
        "colab": {}
      },
      "source": [
        "!rm models/research/object_detection/images/test/frame353.jpg models/research/object_detection/images/test/frame351.jpg models/research/object_detection/images/test/frame348.jpg"
      ],
      "execution_count": 0,
      "outputs": []
    },
    {
      "cell_type": "code",
      "metadata": {
        "id": "7Ewt12GkmuNp",
        "colab_type": "code",
        "colab": {}
      },
      "source": [
        "uploaded = files.upload()"
      ],
      "execution_count": 0,
      "outputs": []
    },
    {
      "cell_type": "code",
      "metadata": {
        "id": "QjhiyFtlncvP",
        "colab_type": "code",
        "colab": {}
      },
      "source": [
        "!unzip -uq \"approach1_labels_train.zip\" -d \"models/research/object_detection/images/train\""
      ],
      "execution_count": 0,
      "outputs": []
    },
    {
      "cell_type": "code",
      "metadata": {
        "id": "sd52KTcynZV1",
        "colab_type": "code",
        "colab": {}
      },
      "source": [
        "uploaded = files.upload()"
      ],
      "execution_count": 0,
      "outputs": []
    },
    {
      "cell_type": "code",
      "metadata": {
        "id": "qGxyezXendCe",
        "colab_type": "code",
        "colab": {}
      },
      "source": [
        "!unzip -uq \"approach1_labels_test.zip\" -d \"models/research/object_detection/images/test\""
      ],
      "execution_count": 0,
      "outputs": []
    },
    {
      "cell_type": "code",
      "metadata": {
        "id": "F7dNRP-2n3-7",
        "colab_type": "code",
        "colab": {}
      },
      "source": [
        "!mv models/research/object_detection/images/train/approach1_labels_train/* models/research/object_detection/images/train\n",
        "!mv models/research/object_detection/images/test/approach1_labels_test/* models/research/object_detection/images/test\n",
        "\n",
        "!rmdir models/research/object_detection/images/train/approach1_labels_train\n",
        "!rmdir models/research/object_detection/images/test/approach1_labels_test"
      ],
      "execution_count": 0,
      "outputs": []
    },
    {
      "cell_type": "code",
      "metadata": {
        "id": "IyGkLJswnoKd",
        "colab_type": "code",
        "colab": {}
      },
      "source": [
        "!ls models/research/object_detection/images/train"
      ],
      "execution_count": 0,
      "outputs": []
    },
    {
      "cell_type": "code",
      "metadata": {
        "id": "kCpk8D3FoXKu",
        "colab_type": "code",
        "colab": {}
      },
      "source": [
        "!ls models/research/object_detection/images/test"
      ],
      "execution_count": 0,
      "outputs": []
    },
    {
      "cell_type": "markdown",
      "metadata": {
        "id": "j1OawDyZ5LNp",
        "colab_type": "text"
      },
      "source": [
        "Loading pre-trained model in correct directory"
      ]
    },
    {
      "cell_type": "code",
      "metadata": {
        "id": "WMt-eNFM36ek",
        "colab_type": "code",
        "colab": {}
      },
      "source": [
        "from google.colab import files\n",
        "uploaded = files.upload()"
      ],
      "execution_count": 0,
      "outputs": []
    },
    {
      "cell_type": "code",
      "metadata": {
        "id": "4l1Z4TO33_s5",
        "colab_type": "code",
        "colab": {}
      },
      "source": [
        "!tar -C models/research/object_detection -zxvf faster_rcnn_inception_v2_coco_2018_01_28.tar.gz"
      ],
      "execution_count": 0,
      "outputs": []
    },
    {
      "cell_type": "markdown",
      "metadata": {
        "id": "LxMegKPa5e0Y",
        "colab_type": "text"
      },
      "source": [
        "Deleting other extra files in object_detection directory"
      ]
    },
    {
      "cell_type": "code",
      "metadata": {
        "id": "jwaYw6fr5l-O",
        "colab_type": "code",
        "colab": {}
      },
      "source": [
        "!rm models/research/object_detection/training/*\n",
        "!rm models/research/object_detection/inference_graph/*\n",
        "!rm models/research/images/train_labels.csv models/research/images/test_labels.csv"
      ],
      "execution_count": 0,
      "outputs": []
    },
    {
      "cell_type": "markdown",
      "metadata": {
        "id": "3izIJgQH7iq3",
        "colab_type": "text"
      },
      "source": [
        "Generate csv file for image labels"
      ]
    },
    {
      "cell_type": "code",
      "metadata": {
        "id": "c8qw5v4Yg8sk",
        "colab_type": "code",
        "colab": {}
      },
      "source": [
        "%pycat models/research/object_detection/xml_to_csv.py"
      ],
      "execution_count": 0,
      "outputs": []
    },
    {
      "cell_type": "code",
      "metadata": {
        "id": "uS7VkKpKhKFf",
        "colab_type": "code",
        "colab": {}
      },
      "source": [
        "%%writefile models/research/object_detection/xml_to_csv.py\n",
        "frames_less_200 = []\n",
        "frames_greater_200 = []\n",
        "\n",
        "for i in range(0,200):\n",
        "    frames_less_200.append('frame{}.jpg'.format(i))\n",
        "\n",
        "for i in range(200,365):\n",
        "    frames_greater_200.append('frame{}.jpg'.format(i))\n",
        "\n",
        "import os\n",
        "import glob\n",
        "import pandas as pd\n",
        "import xml.etree.ElementTree as ET\n",
        "\n",
        "\n",
        "def xml_to_csv(path):\n",
        "    xml_list = []\n",
        "    for xml_file in glob.glob(path + '/*.xml'):\n",
        "        tree = ET.parse(xml_file)\n",
        "        root = tree.getroot()\n",
        "        # print(root.find('filename').text)\n",
        "        for member in root.findall('object'):\n",
        "            if root.find('filename').text in frames_less_200:\n",
        "                value = (root.find('filename').text,\n",
        "                        int(root.find('size')[0].text),\n",
        "                        int(root.find('size')[1].text),\n",
        "                        member[0].text,\n",
        "                        int(member[5][0].text),\n",
        "                        int(member[5][1].text),\n",
        "                        int(member[5][2].text),\n",
        "                        int(member[5][3].text)\n",
        "                        )\n",
        "            else:\n",
        "                value = (root.find('filename').text,\n",
        "                        int(root.find('size')[0].text),\n",
        "                        int(root.find('size')[1].text),\n",
        "                        member[0].text,\n",
        "                        int(member[4][0].text),\n",
        "                        int(member[4][1].text),\n",
        "                        int(member[4][2].text),\n",
        "                        int(member[4][3].text)\n",
        "                        )\n",
        "            xml_list.append(value)\n",
        "    column_name = ['filename', 'width', 'height', 'class', 'xmin', 'ymin', 'xmax', 'ymax']\n",
        "    xml_df = pd.DataFrame(xml_list, columns=column_name)\n",
        "    return xml_df\n",
        "\n",
        "\n",
        "def main():\n",
        "    for folder in ['train','test']:\n",
        "        image_path = os.path.join('models/research/object_detection', ('images/' + folder))\n",
        "        xml_df = xml_to_csv(image_path)\n",
        "        xml_df.to_csv(('models/research/object_detection/images/' + folder + '_labels.csv'), index=None)\n",
        "        print('Successfully converted xml to csv.')\n",
        "\n",
        "\n",
        "main()"
      ],
      "execution_count": 0,
      "outputs": []
    },
    {
      "cell_type": "code",
      "metadata": {
        "id": "vYKtROBQocIC",
        "colab_type": "code",
        "colab": {}
      },
      "source": [
        "!python models/research/object_detection/xml_to_csv.py"
      ],
      "execution_count": 0,
      "outputs": []
    },
    {
      "cell_type": "markdown",
      "metadata": {
        "id": "Zd0iNx1P--m4",
        "colab_type": "text"
      },
      "source": [
        "Generating TF Records"
      ]
    },
    {
      "cell_type": "code",
      "metadata": {
        "id": "usCZp9AB-zwv",
        "colab_type": "code",
        "colab": {}
      },
      "source": [
        "%pycat models/research/object_detection/generate_tfrecord.py"
      ],
      "execution_count": 0,
      "outputs": []
    },
    {
      "cell_type": "code",
      "metadata": {
        "id": "geeVaxb4_N8l",
        "colab_type": "code",
        "colab": {}
      },
      "source": [
        "!rm models/research/object_detection/generate_tfrecord.py"
      ],
      "execution_count": 0,
      "outputs": []
    },
    {
      "cell_type": "code",
      "metadata": {
        "id": "ZI0ejwbO_XHM",
        "colab_type": "code",
        "colab": {}
      },
      "source": [
        "%%writefile models/research/object_detection/generate_tfrecord.py\n",
        "\n",
        "\"\"\"\n",
        "Usage:\n",
        "  # From tensorflow/models/\n",
        "  # Create train data:\n",
        "  python generate_tfrecord.py --csv_input=images/train_labels.csv --image_dir=images/train --output_path=train.record\n",
        "\n",
        "  # Create test data:\n",
        "  python generate_tfrecord.py --csv_input=images/test_labels.csv  --image_dir=images/test --output_path=test.record\n",
        "\"\"\"\n",
        "from __future__ import division\n",
        "from __future__ import print_function\n",
        "from __future__ import absolute_import\n",
        "\n",
        "import os\n",
        "import io\n",
        "import pandas as pd\n",
        "import tensorflow as tf\n",
        "\n",
        "from PIL import Image\n",
        "from object_detection.utils import dataset_util\n",
        "from collections import namedtuple, OrderedDict\n",
        "\n",
        "flags = tf.compat.v1.flags\n",
        "flags.DEFINE_string('csv_input', '', 'Path to the CSV input')\n",
        "flags.DEFINE_string('image_dir', '', 'Path to the image directory')\n",
        "flags.DEFINE_string('output_path', '', 'Path to output TFRecord')\n",
        "FLAGS = flags.FLAGS\n",
        "\n",
        "\n",
        "# TO-DO replace this with label map\n",
        "def class_text_to_int(row_label):\n",
        "    if row_label == 'start_tick':\n",
        "        return 1\n",
        "    elif row_label == 'start_gate':\n",
        "        return 2\n",
        "    else:\n",
        "        None\n",
        "\n",
        "\n",
        "def split(df, group):\n",
        "    data = namedtuple('data', ['filename', 'object'])\n",
        "    gb = df.groupby(group)\n",
        "    return [data(filename, gb.get_group(x)) for filename, x in zip(gb.groups.keys(), gb.groups)]\n",
        "\n",
        "\n",
        "def create_tf_example(group, path):\n",
        "    with tf.io.gfile.GFile(os.path.join(path, '{}'.format(group.filename)), 'rb') as fid:\n",
        "        encoded_jpg = fid.read()\n",
        "    encoded_jpg_io = io.BytesIO(encoded_jpg)\n",
        "    image = Image.open(encoded_jpg_io)\n",
        "    width, height = image.size\n",
        "\n",
        "    filename = group.filename.encode('utf8')\n",
        "    image_format = b'jpg'\n",
        "    xmins = []\n",
        "    xmaxs = []\n",
        "    ymins = []\n",
        "    ymaxs = []\n",
        "    classes_text = []\n",
        "    classes = []\n",
        "\n",
        "    for index, row in group.object.iterrows():\n",
        "        xmins.append(row['xmin'] / width)\n",
        "        xmaxs.append(row['xmax'] / width)\n",
        "        ymins.append(row['ymin'] / height)\n",
        "        ymaxs.append(row['ymax'] / height)\n",
        "        classes_text.append(row['class'].encode('utf8'))\n",
        "        classes.append(class_text_to_int(row['class']))\n",
        "\n",
        "    tf_example = tf.train.Example(features=tf.train.Features(feature={\n",
        "        'image/height': dataset_util.int64_feature(height),\n",
        "        'image/width': dataset_util.int64_feature(width),\n",
        "        'image/filename': dataset_util.bytes_feature(filename),\n",
        "        'image/source_id': dataset_util.bytes_feature(filename),\n",
        "        'image/encoded': dataset_util.bytes_feature(encoded_jpg),\n",
        "        'image/format': dataset_util.bytes_feature(image_format),\n",
        "        'image/object/bbox/xmin': dataset_util.float_list_feature(xmins),\n",
        "        'image/object/bbox/xmax': dataset_util.float_list_feature(xmaxs),\n",
        "        'image/object/bbox/ymin': dataset_util.float_list_feature(ymins),\n",
        "        'image/object/bbox/ymax': dataset_util.float_list_feature(ymaxs),\n",
        "        'image/object/class/text': dataset_util.bytes_list_feature(classes_text),\n",
        "        'image/object/class/label': dataset_util.int64_list_feature(classes),\n",
        "    }))\n",
        "    return tf_example\n",
        "\n",
        "\n",
        "def main(_):\n",
        "    writer = tf.compat.v1.python_io.TFRecordWriter(FLAGS.output_path)\n",
        "    path = os.path.join(os.getcwd(), FLAGS.image_dir)\n",
        "    examples = pd.read_csv(FLAGS.csv_input)\n",
        "    grouped = split(examples, 'filename')\n",
        "    for group in grouped:\n",
        "        tf_example = create_tf_example(group, path)\n",
        "        writer.write(tf_example.SerializeToString())\n",
        "\n",
        "    writer.close()\n",
        "    output_path = os.path.join('models/research/object_detection/', FLAGS.output_path)\n",
        "    print('Successfully created the TFRecords: {}'.format(output_path))\n",
        "\n",
        "\n",
        "if __name__ == '__main__':\n",
        "    tf.compat.v1.app.run()"
      ],
      "execution_count": 0,
      "outputs": []
    },
    {
      "cell_type": "code",
      "metadata": {
        "id": "lb2ywtTwAD72",
        "colab_type": "code",
        "colab": {}
      },
      "source": [
        "!python models/research/object_detection/generate_tfrecord.py --csv_input=models/research/object_detection/images/train_labels.csv --image_dir=models/research/object_detection/images/train --output_path=train.record\n",
        "!python models/research/object_detection/generate_tfrecord.py --csv_input=models/research/object_detection/images/test_labels.csv --image_dir=models/research/object_detection/images/test --output_path=test.record"
      ],
      "execution_count": 0,
      "outputs": []
    },
    {
      "cell_type": "markdown",
      "metadata": {
        "id": "JdNljrYJDoMu",
        "colab_type": "text"
      },
      "source": [
        "Create label map"
      ]
    },
    {
      "cell_type": "code",
      "metadata": {
        "id": "wwWdL2KGDpga",
        "colab_type": "code",
        "colab": {}
      },
      "source": [
        "%%writefile models/research/object_detection/training/labelmap.pbtxt\n",
        "\n",
        "item {\n",
        "  id: 1\n",
        "  name: 'start_tick'\n",
        "}\n",
        "\n",
        "item {\n",
        "  id: 2\n",
        "  name: 'start_gate'\n",
        "}"
      ],
      "execution_count": 0,
      "outputs": []
    },
    {
      "cell_type": "markdown",
      "metadata": {
        "id": "Pk5oROGjE09e",
        "colab_type": "text"
      },
      "source": [
        "Configure training pipeline (edit config file for pre-trained model)"
      ]
    },
    {
      "cell_type": "code",
      "metadata": {
        "id": "MaBxjiQBE9OK",
        "colab_type": "code",
        "colab": {}
      },
      "source": [
        "!cp models/research/object_detection/samples/configs/faster_rcnn_inception_v2_pets.config models/research/object_detection/training"
      ],
      "execution_count": 0,
      "outputs": []
    },
    {
      "cell_type": "code",
      "metadata": {
        "id": "6MrHAZCVGc7R",
        "colab_type": "code",
        "colab": {}
      },
      "source": [
        "!cat models/research/object_detection/training/faster_rcnn_inception_v2_pets.config"
      ],
      "execution_count": 0,
      "outputs": []
    },
    {
      "cell_type": "code",
      "metadata": {
        "id": "lXrrcklwGdJ2",
        "colab_type": "code",
        "colab": {}
      },
      "source": [
        "%%writefile models/research/object_detection/training/faster_rcnn_inception_v2_pets.config\n",
        "\n",
        "# Faster R-CNN with Inception v2, configured for Oxford-IIIT Pets Dataset.\n",
        "# Users should configure the fine_tune_checkpoint field in the train config as\n",
        "# well as the label_map_path and input_path fields in the train_input_reader and\n",
        "# eval_input_reader. Search for \"PATH_TO_BE_CONFIGURED\" to find the fields that\n",
        "# should be configured.\n",
        "\n",
        "model {\n",
        "  faster_rcnn {\n",
        "    num_classes: 2\n",
        "    image_resizer {\n",
        "      keep_aspect_ratio_resizer {\n",
        "        min_dimension: 600\n",
        "        max_dimension: 1024\n",
        "      }\n",
        "    }\n",
        "    feature_extractor {\n",
        "      type: 'faster_rcnn_inception_v2'\n",
        "      first_stage_features_stride: 16\n",
        "    }\n",
        "    first_stage_anchor_generator {\n",
        "      grid_anchor_generator {\n",
        "        scales: [0.25, 0.5, 1.0, 2.0]\n",
        "        aspect_ratios: [0.5, 1.0, 2.0]\n",
        "        height_stride: 16\n",
        "        width_stride: 16\n",
        "      }\n",
        "    }\n",
        "    first_stage_box_predictor_conv_hyperparams {\n",
        "      op: CONV\n",
        "      regularizer {\n",
        "        l2_regularizer {\n",
        "          weight: 0.0\n",
        "        }\n",
        "      }\n",
        "      initializer {\n",
        "        truncated_normal_initializer {\n",
        "          stddev: 0.01\n",
        "        }\n",
        "      }\n",
        "    }\n",
        "    first_stage_nms_score_threshold: 0.0\n",
        "    first_stage_nms_iou_threshold: 0.7\n",
        "    first_stage_max_proposals: 300\n",
        "    first_stage_localization_loss_weight: 2.0\n",
        "    first_stage_objectness_loss_weight: 1.0\n",
        "    initial_crop_size: 14\n",
        "    maxpool_kernel_size: 2\n",
        "    maxpool_stride: 2\n",
        "    second_stage_box_predictor {\n",
        "      mask_rcnn_box_predictor {\n",
        "        use_dropout: false\n",
        "        dropout_keep_probability: 1.0\n",
        "        fc_hyperparams {\n",
        "          op: FC\n",
        "          regularizer {\n",
        "            l2_regularizer {\n",
        "              weight: 0.0\n",
        "            }\n",
        "          }\n",
        "          initializer {\n",
        "            variance_scaling_initializer {\n",
        "              factor: 1.0\n",
        "              uniform: true\n",
        "              mode: FAN_AVG\n",
        "            }\n",
        "          }\n",
        "        }\n",
        "      }\n",
        "    }\n",
        "    second_stage_post_processing {\n",
        "      batch_non_max_suppression {\n",
        "        score_threshold: 0.0\n",
        "        iou_threshold: 0.6\n",
        "        max_detections_per_class: 100\n",
        "        max_total_detections: 300\n",
        "      }\n",
        "      score_converter: SOFTMAX\n",
        "    }\n",
        "    second_stage_localization_loss_weight: 2.0\n",
        "    second_stage_classification_loss_weight: 1.0\n",
        "  }\n",
        "}\n",
        "\n",
        "train_config: {\n",
        "  batch_size: 1\n",
        "  optimizer {\n",
        "    momentum_optimizer: {\n",
        "      learning_rate: {\n",
        "        manual_step_learning_rate {\n",
        "          initial_learning_rate: 0.0002\n",
        "          schedule {\n",
        "            step: 900000\n",
        "            learning_rate: .00002\n",
        "          }\n",
        "          schedule {\n",
        "            step: 1200000\n",
        "            learning_rate: .000002\n",
        "          }\n",
        "        }\n",
        "      }\n",
        "      momentum_optimizer_value: 0.9\n",
        "    }\n",
        "    use_moving_average: false\n",
        "  }\n",
        "  gradient_clipping_by_norm: 10.0\n",
        "  fine_tune_checkpoint: \"models/research/object_detection/faster_rcnn_inception_v2_coco_2018_01_28/model.ckpt\"\n",
        "  from_detection_checkpoint: true\n",
        "  load_all_detection_checkpoint_vars: true\n",
        "  # Note: The below line limits the training process to 200K steps, which we\n",
        "  # empirically found to be sufficient enough to train the pets dataset. This\n",
        "  # effectively bypasses the learning rate schedule (the learning rate will\n",
        "  # never decay). Remove the below line to train indefinitely.\n",
        "  num_steps: 200000\n",
        "  data_augmentation_options {\n",
        "    random_horizontal_flip {\n",
        "    }\n",
        "  }\n",
        "}\n",
        "\n",
        "\n",
        "train_input_reader: {\n",
        "  tf_record_input_reader {\n",
        "    input_path: \"models/research/object_detection/train.record\"\n",
        "  }\n",
        "  label_map_path: \"models/research/object_detection/training/labelmap.pbtxt\"\n",
        "}\n",
        "\n",
        "eval_config: {\n",
        "  metrics_set: \"coco_detection_metrics\"\n",
        "  num_examples: 74\n",
        "}\n",
        "\n",
        "eval_input_reader: {\n",
        "  tf_record_input_reader {\n",
        "    input_path: \"models/research/object_detection/test.record\"\n",
        "  }\n",
        "  label_map_path: \"models/research/object_detection/training/labelmap.pbtxt\"\n",
        "  shuffle: false\n",
        "  num_readers: 1\n",
        "}"
      ],
      "execution_count": 0,
      "outputs": []
    },
    {
      "cell_type": "code",
      "metadata": {
        "id": "O-mIpoA6V_as",
        "colab_type": "code",
        "colab": {}
      },
      "source": [
        "%%writefile models/research/object_detection/faster_rcnn_inception_v2_pets.config\n",
        "\n",
        "# Faster R-CNN with Inception v2, configured for Oxford-IIIT Pets Dataset.\n",
        "# Users should configure the fine_tune_checkpoint field in the train config as\n",
        "# well as the label_map_path and input_path fields in the train_input_reader and\n",
        "# eval_input_reader. Search for \"PATH_TO_BE_CONFIGURED\" to find the fields that\n",
        "# should be configured.\n",
        "\n",
        "model {\n",
        "  faster_rcnn {\n",
        "    num_classes: 2\n",
        "    image_resizer {\n",
        "      keep_aspect_ratio_resizer {\n",
        "        min_dimension: 600\n",
        "        max_dimension: 1024\n",
        "      }\n",
        "    }\n",
        "    feature_extractor {\n",
        "      type: 'faster_rcnn_inception_v2'\n",
        "      first_stage_features_stride: 16\n",
        "    }\n",
        "    first_stage_anchor_generator {\n",
        "      grid_anchor_generator {\n",
        "        scales: [0.25, 0.5, 1.0, 2.0]\n",
        "        aspect_ratios: [0.5, 1.0, 2.0]\n",
        "        height_stride: 16\n",
        "        width_stride: 16\n",
        "      }\n",
        "    }\n",
        "    first_stage_box_predictor_conv_hyperparams {\n",
        "      op: CONV\n",
        "      regularizer {\n",
        "        l2_regularizer {\n",
        "          weight: 0.0\n",
        "        }\n",
        "      }\n",
        "      initializer {\n",
        "        truncated_normal_initializer {\n",
        "          stddev: 0.01\n",
        "        }\n",
        "      }\n",
        "    }\n",
        "    first_stage_nms_score_threshold: 0.0\n",
        "    first_stage_nms_iou_threshold: 0.7\n",
        "    first_stage_max_proposals: 300\n",
        "    first_stage_localization_loss_weight: 2.0\n",
        "    first_stage_objectness_loss_weight: 1.0\n",
        "    initial_crop_size: 14\n",
        "    maxpool_kernel_size: 2\n",
        "    maxpool_stride: 2\n",
        "    second_stage_box_predictor {\n",
        "      mask_rcnn_box_predictor {\n",
        "        use_dropout: false\n",
        "        dropout_keep_probability: 1.0\n",
        "        fc_hyperparams {\n",
        "          op: FC\n",
        "          regularizer {\n",
        "            l2_regularizer {\n",
        "              weight: 0.0\n",
        "            }\n",
        "          }\n",
        "          initializer {\n",
        "            variance_scaling_initializer {\n",
        "              factor: 1.0\n",
        "              uniform: true\n",
        "              mode: FAN_AVG\n",
        "            }\n",
        "          }\n",
        "        }\n",
        "      }\n",
        "    }\n",
        "    second_stage_post_processing {\n",
        "      batch_non_max_suppression {\n",
        "        score_threshold: 0.0\n",
        "        iou_threshold: 0.6\n",
        "        max_detections_per_class: 100\n",
        "        max_total_detections: 300\n",
        "      }\n",
        "      score_converter: SOFTMAX\n",
        "    }\n",
        "    second_stage_localization_loss_weight: 2.0\n",
        "    second_stage_classification_loss_weight: 1.0\n",
        "  }\n",
        "}\n",
        "\n",
        "train_config: {\n",
        "  batch_size: 1\n",
        "  optimizer {\n",
        "    momentum_optimizer: {\n",
        "      learning_rate: {\n",
        "        manual_step_learning_rate {\n",
        "          initial_learning_rate: 0.0002\n",
        "          schedule {\n",
        "            step: 900000\n",
        "            learning_rate: .00002\n",
        "          }\n",
        "          schedule {\n",
        "            step: 1200000\n",
        "            learning_rate: .000002\n",
        "          }\n",
        "        }\n",
        "      }\n",
        "      momentum_optimizer_value: 0.9\n",
        "    }\n",
        "    use_moving_average: false\n",
        "  }\n",
        "  gradient_clipping_by_norm: 10.0\n",
        "  fine_tune_checkpoint: \"models/research/object_detection/faster_rcnn_inception_v2_coco_2018_01_28/model.ckpt\"\n",
        "  from_detection_checkpoint: true\n",
        "  load_all_detection_checkpoint_vars: true\n",
        "  # Note: The below line limits the training process to 200K steps, which we\n",
        "  # empirically found to be sufficient enough to train the pets dataset. This\n",
        "  # effectively bypasses the learning rate schedule (the learning rate will\n",
        "  # never decay). Remove the below line to train indefinitely.\n",
        "  num_steps: 200000\n",
        "  data_augmentation_options {\n",
        "    random_horizontal_flip {\n",
        "    }\n",
        "  }\n",
        "}\n",
        "\n",
        "\n",
        "train_input_reader: {\n",
        "  tf_record_input_reader {\n",
        "    input_path: \"models/research/object_detection/train.record\"\n",
        "  }\n",
        "  label_map_path: \"models/research/object_detection/training/labelmap.pbtxt\"\n",
        "}\n",
        "\n",
        "eval_config: {\n",
        "  metrics_set: \"coco_detection_metrics\"\n",
        "  num_examples: 74\n",
        "}\n",
        "\n",
        "eval_input_reader: {\n",
        "  tf_record_input_reader {\n",
        "    input_path: \"models/research/object_detection/test.record\"\n",
        "  }\n",
        "  label_map_path: \"models/research/object_detection/training/labelmap.pbtxt\"\n",
        "  shuffle: false\n",
        "  num_readers: 1\n",
        "}"
      ],
      "execution_count": 0,
      "outputs": []
    },
    {
      "cell_type": "markdown",
      "metadata": {
        "id": "BU4oJuMTJXTR",
        "colab_type": "text"
      },
      "source": [
        "Running training"
      ]
    },
    {
      "cell_type": "code",
      "metadata": {
        "id": "Cl7RS-vcQ51P",
        "colab_type": "code",
        "colab": {}
      },
      "source": [
        "! tf_upgrade_v2 \\\n",
        "  --intree usr/local/lib/python3.6/dist-packages/tf_slim/evaluation.py \\\n",
        "  --outtree usr/local/lib/python3.6/dist-packages/tf_slim/evaluation_v2.py \\\n",
        "  --reportfile report.txt"
      ],
      "execution_count": 0,
      "outputs": []
    },
    {
      "cell_type": "code",
      "metadata": {
        "id": "MrqB3PnmRal0",
        "colab_type": "code",
        "colab": {}
      },
      "source": [
        "!cat report.txt"
      ],
      "execution_count": 0,
      "outputs": []
    },
    {
      "cell_type": "code",
      "metadata": {
        "id": "3gkujYTFR8xj",
        "colab_type": "code",
        "colab": {}
      },
      "source": [
        "!pip install -U --pre tensorflow==\"1.*\""
      ],
      "execution_count": 0,
      "outputs": []
    },
    {
      "cell_type": "code",
      "metadata": {
        "id": "O3mIWKUJTBOb",
        "colab_type": "code",
        "colab": {}
      },
      "source": [
        "!set PYTHONPATH=models;models/research;models/research/slim"
      ],
      "execution_count": 0,
      "outputs": []
    },
    {
      "cell_type": "code",
      "metadata": {
        "id": "lM-ZG5naThd9",
        "colab_type": "code",
        "colab": {}
      },
      "source": [
        "!python models/research/setup.py build\n",
        "!python models/research/setup.py install"
      ],
      "execution_count": 0,
      "outputs": []
    },
    {
      "cell_type": "code",
      "metadata": {
        "id": "WFw4knlVUC5Z",
        "colab_type": "code",
        "colab": {}
      },
      "source": [
        "%%writefile -a .bashrc\n",
        "export PYTHONPATH=\"$PYTHONPATH:models/research:models/research/slim\""
      ],
      "execution_count": 0,
      "outputs": []
    },
    {
      "cell_type": "code",
      "metadata": {
        "id": "cE6bX1fbUsSw",
        "colab_type": "code",
        "colab": {}
      },
      "source": [
        "#! /bin/bash   \n",
        "!set -m\n",
        "!set PYTHONPATH=models;models/research;models/research/slim\n",
        "!set PATH=%PATH%;%PYTHONPATH%"
      ],
      "execution_count": 0,
      "outputs": []
    },
    {
      "cell_type": "code",
      "metadata": {
        "id": "WtZ7SgtIVr2l",
        "colab_type": "code",
        "colab": {}
      },
      "source": [
        "import os\n",
        "os.environ['PYTHONPATH'] += ':/content/models/research/:/content/models/research/slim/'"
      ],
      "execution_count": 0,
      "outputs": []
    },
    {
      "cell_type": "code",
      "metadata": {
        "id": "tJ0fn1W8JYs1",
        "colab_type": "code",
        "colab": {}
      },
      "source": [
        "!python models/research/object_detection/legacy/train.py --logtostderr --train_dir=models/research/object_detection/training/ --pipeline_config_path=models/research/object_detection/faster_rcnn_inception_v2_pets.config"
      ],
      "execution_count": 0,
      "outputs": []
    },
    {
      "cell_type": "code",
      "metadata": {
        "id": "5JAeYFS9L3G6",
        "colab_type": "code",
        "colab": {}
      },
      "source": [
        "%pycat /usr/local/lib/python3.6/dist-packages/object_detection/eval_util.py"
      ],
      "execution_count": 0,
      "outputs": []
    },
    {
      "cell_type": "code",
      "metadata": {
        "id": "8XSXQ4F6LBe7",
        "colab_type": "code",
        "colab": {}
      },
      "source": [
        "!pip install tf_slim"
      ],
      "execution_count": 0,
      "outputs": []
    },
    {
      "cell_type": "code",
      "metadata": {
        "id": "6NX80UPZNYHO",
        "colab_type": "code",
        "colab": {}
      },
      "source": [
        "%%writefile /usr/local/lib/python3.6/dist-packages/object_detection/eval_util.py\n",
        "\n",
        "# Copyright 2017 The TensorFlow Authors. All Rights Reserved.\n",
        "#\n",
        "# Licensed under the Apache License, Version 2.0 (the \"License\");\n",
        "# you may not use this file except in compliance with the License.\n",
        "# You may obtain a copy of the License at\n",
        "#\n",
        "#     http://www.apache.org/licenses/LICENSE-2.0\n",
        "#\n",
        "# Unless required by applicable law or agreed to in writing, software\n",
        "# distributed under the License is distributed on an \"AS IS\" BASIS,\n",
        "# WITHOUT WARRANTIES OR CONDITIONS OF ANY KIND, either express or implied.\n",
        "# See the License for the specific language governing permissions and\n",
        "# limitations under the License.\n",
        "# ==============================================================================\n",
        "\"\"\"Common utility functions for evaluation.\"\"\"\n",
        "from __future__ import absolute_import\n",
        "from __future__ import division\n",
        "from __future__ import print_function\n",
        "\n",
        "import collections\n",
        "import os\n",
        "import re\n",
        "import time\n",
        "\n",
        "import numpy as np\n",
        "from six.moves import range\n",
        "import tensorflow as tf\n",
        "\n",
        "from object_detection.core import box_list\n",
        "from object_detection.core import box_list_ops\n",
        "from object_detection.core import keypoint_ops\n",
        "from object_detection.core import standard_fields as fields\n",
        "from object_detection.metrics import coco_evaluation\n",
        "from object_detection.utils import label_map_util\n",
        "from object_detection.utils import object_detection_evaluation\n",
        "from object_detection.utils import ops\n",
        "from object_detection.utils import shape_utils\n",
        "from object_detection.utils import visualization_utils as vis_utils\n",
        "\n",
        "slim = tf.contrib.slim\n",
        "\n",
        "# A dictionary of metric names to classes that implement the metric. The classes\n",
        "# in the dictionary must implement\n",
        "# utils.object_detection_evaluation.DetectionEvaluator interface.\n",
        "EVAL_METRICS_CLASS_DICT = {\n",
        "    'coco_detection_metrics':\n",
        "        coco_evaluation.CocoDetectionEvaluator,\n",
        "    'coco_mask_metrics':\n",
        "        coco_evaluation.CocoMaskEvaluator,\n",
        "    'oid_challenge_detection_metrics':\n",
        "        object_detection_evaluation.OpenImagesDetectionChallengeEvaluator,\n",
        "    'oid_challenge_segmentation_metrics':\n",
        "        object_detection_evaluation\n",
        "        .OpenImagesInstanceSegmentationChallengeEvaluator,\n",
        "    'pascal_voc_detection_metrics':\n",
        "        object_detection_evaluation.PascalDetectionEvaluator,\n",
        "    'weighted_pascal_voc_detection_metrics':\n",
        "        object_detection_evaluation.WeightedPascalDetectionEvaluator,\n",
        "    'precision_at_recall_detection_metrics':\n",
        "        object_detection_evaluation.PrecisionAtRecallDetectionEvaluator,\n",
        "    'pascal_voc_instance_segmentation_metrics':\n",
        "        object_detection_evaluation.PascalInstanceSegmentationEvaluator,\n",
        "    'weighted_pascal_voc_instance_segmentation_metrics':\n",
        "        object_detection_evaluation.WeightedPascalInstanceSegmentationEvaluator,\n",
        "    'oid_V2_detection_metrics':\n",
        "        object_detection_evaluation.OpenImagesDetectionEvaluator,\n",
        "}\n",
        "\n",
        "EVAL_DEFAULT_METRIC = 'coco_detection_metrics'\n",
        "\n",
        "\n",
        "def write_metrics(metrics, global_step, summary_dir):\n",
        "  \"\"\"Write metrics to a summary directory.\n",
        "\n",
        "  Args:\n",
        "    metrics: A dictionary containing metric names and values.\n",
        "    global_step: Global step at which the metrics are computed.\n",
        "    summary_dir: Directory to write tensorflow summaries to.\n",
        "  \"\"\"\n",
        "  tf.logging.info('Writing metrics to tf summary.')\n",
        "  summary_writer = tf.summary.FileWriterCache.get(summary_dir)\n",
        "  for key in sorted(metrics):\n",
        "    summary = tf.Summary(value=[\n",
        "        tf.Summary.Value(tag=key, simple_value=metrics[key]),\n",
        "    ])\n",
        "    summary_writer.add_summary(summary, global_step)\n",
        "    tf.logging.info('%s: %f', key, metrics[key])\n",
        "  tf.logging.info('Metrics written to tf summary.')\n",
        "\n",
        "\n",
        "# TODO(rathodv): Add tests.\n",
        "def visualize_detection_results(result_dict,\n",
        "                                tag,\n",
        "                                global_step,\n",
        "                                categories,\n",
        "                                summary_dir='',\n",
        "                                export_dir='',\n",
        "                                agnostic_mode=False,\n",
        "                                show_groundtruth=False,\n",
        "                                groundtruth_box_visualization_color='black',\n",
        "                                min_score_thresh=.5,\n",
        "                                max_num_predictions=20,\n",
        "                                skip_scores=False,\n",
        "                                skip_labels=False,\n",
        "                                keep_image_id_for_visualization_export=False):\n",
        "  \"\"\"Visualizes detection results and writes visualizations to image summaries.\n",
        "\n",
        "  This function visualizes an image with its detected bounding boxes and writes\n",
        "  to image summaries which can be viewed on tensorboard.  It optionally also\n",
        "  writes images to a directory. In the case of missing entry in the label map,\n",
        "  unknown class name in the visualization is shown as \"N/A\".\n",
        "\n",
        "  Args:\n",
        "    result_dict: a dictionary holding groundtruth and detection\n",
        "      data corresponding to each image being evaluated.  The following keys\n",
        "      are required:\n",
        "        'original_image': a numpy array representing the image with shape\n",
        "          [1, height, width, 3] or [1, height, width, 1]\n",
        "        'detection_boxes': a numpy array of shape [N, 4]\n",
        "        'detection_scores': a numpy array of shape [N]\n",
        "        'detection_classes': a numpy array of shape [N]\n",
        "      The following keys are optional:\n",
        "        'groundtruth_boxes': a numpy array of shape [N, 4]\n",
        "        'groundtruth_keypoints': a numpy array of shape [N, num_keypoints, 2]\n",
        "      Detections are assumed to be provided in decreasing order of score and for\n",
        "      display, and we assume that scores are probabilities between 0 and 1.\n",
        "    tag: tensorboard tag (string) to associate with image.\n",
        "    global_step: global step at which the visualization are generated.\n",
        "    categories: a list of dictionaries representing all possible categories.\n",
        "      Each dict in this list has the following keys:\n",
        "          'id': (required) an integer id uniquely identifying this category\n",
        "          'name': (required) string representing category name\n",
        "            e.g., 'cat', 'dog', 'pizza'\n",
        "          'supercategory': (optional) string representing the supercategory\n",
        "            e.g., 'animal', 'vehicle', 'food', etc\n",
        "    summary_dir: the output directory to which the image summaries are written.\n",
        "    export_dir: the output directory to which images are written.  If this is\n",
        "      empty (default), then images are not exported.\n",
        "    agnostic_mode: boolean (default: False) controlling whether to evaluate in\n",
        "      class-agnostic mode or not.\n",
        "    show_groundtruth: boolean (default: False) controlling whether to show\n",
        "      groundtruth boxes in addition to detected boxes\n",
        "    groundtruth_box_visualization_color: box color for visualizing groundtruth\n",
        "      boxes\n",
        "    min_score_thresh: minimum score threshold for a box to be visualized\n",
        "    max_num_predictions: maximum number of detections to visualize\n",
        "    skip_scores: whether to skip score when drawing a single detection\n",
        "    skip_labels: whether to skip label when drawing a single detection\n",
        "    keep_image_id_for_visualization_export: whether to keep image identifier in\n",
        "      filename when exported to export_dir\n",
        "  Raises:\n",
        "    ValueError: if result_dict does not contain the expected keys (i.e.,\n",
        "      'original_image', 'detection_boxes', 'detection_scores',\n",
        "      'detection_classes')\n",
        "  \"\"\"\n",
        "  detection_fields = fields.DetectionResultFields\n",
        "  input_fields = fields.InputDataFields\n",
        "  if not set([\n",
        "      input_fields.original_image,\n",
        "      detection_fields.detection_boxes,\n",
        "      detection_fields.detection_scores,\n",
        "      detection_fields.detection_classes,\n",
        "  ]).issubset(set(result_dict.keys())):\n",
        "    raise ValueError('result_dict does not contain all expected keys.')\n",
        "  if show_groundtruth and input_fields.groundtruth_boxes not in result_dict:\n",
        "    raise ValueError('If show_groundtruth is enabled, result_dict must contain '\n",
        "                     'groundtruth_boxes.')\n",
        "  tf.logging.info('Creating detection visualizations.')\n",
        "  category_index = label_map_util.create_category_index(categories)\n",
        "\n",
        "  image = np.squeeze(result_dict[input_fields.original_image], axis=0)\n",
        "  if image.shape[2] == 1:  # If one channel image, repeat in RGB.\n",
        "    image = np.tile(image, [1, 1, 3])\n",
        "  detection_boxes = result_dict[detection_fields.detection_boxes]\n",
        "  detection_scores = result_dict[detection_fields.detection_scores]\n",
        "  detection_classes = np.int32((result_dict[\n",
        "      detection_fields.detection_classes]))\n",
        "  detection_keypoints = result_dict.get(detection_fields.detection_keypoints)\n",
        "  detection_masks = result_dict.get(detection_fields.detection_masks)\n",
        "  detection_boundaries = result_dict.get(detection_fields.detection_boundaries)\n",
        "\n",
        "  # Plot groundtruth underneath detections\n",
        "  if show_groundtruth:\n",
        "    groundtruth_boxes = result_dict[input_fields.groundtruth_boxes]\n",
        "    groundtruth_keypoints = result_dict.get(input_fields.groundtruth_keypoints)\n",
        "    vis_utils.visualize_boxes_and_labels_on_image_array(\n",
        "        image=image,\n",
        "        boxes=groundtruth_boxes,\n",
        "        classes=None,\n",
        "        scores=None,\n",
        "        category_index=category_index,\n",
        "        keypoints=groundtruth_keypoints,\n",
        "        use_normalized_coordinates=False,\n",
        "        max_boxes_to_draw=None,\n",
        "        groundtruth_box_visualization_color=groundtruth_box_visualization_color)\n",
        "  vis_utils.visualize_boxes_and_labels_on_image_array(\n",
        "      image,\n",
        "      detection_boxes,\n",
        "      detection_classes,\n",
        "      detection_scores,\n",
        "      category_index,\n",
        "      instance_masks=detection_masks,\n",
        "      instance_boundaries=detection_boundaries,\n",
        "      keypoints=detection_keypoints,\n",
        "      use_normalized_coordinates=False,\n",
        "      max_boxes_to_draw=max_num_predictions,\n",
        "      min_score_thresh=min_score_thresh,\n",
        "      agnostic_mode=agnostic_mode,\n",
        "      skip_scores=skip_scores,\n",
        "      skip_labels=skip_labels)\n",
        "\n",
        "  if export_dir:\n",
        "    if keep_image_id_for_visualization_export and result_dict[fields.\n",
        "                                                              InputDataFields()\n",
        "                                                              .key]:\n",
        "      export_path = os.path.join(export_dir, 'export-{}-{}.png'.format(\n",
        "          tag, result_dict[fields.InputDataFields().key]))\n",
        "    else:\n",
        "      export_path = os.path.join(export_dir, 'export-{}.png'.format(tag))\n",
        "    vis_utils.save_image_array_as_png(image, export_path)\n",
        "\n",
        "  summary = tf.Summary(value=[\n",
        "      tf.Summary.Value(\n",
        "          tag=tag,\n",
        "          image=tf.Summary.Image(\n",
        "              encoded_image_string=vis_utils.encode_image_array_as_png_str(\n",
        "                  image)))\n",
        "  ])\n",
        "  summary_writer = tf.summary.FileWriterCache.get(summary_dir)\n",
        "  summary_writer.add_summary(summary, global_step)\n",
        "\n",
        "  tf.logging.info('Detection visualizations written to summary with tag %s.',\n",
        "                  tag)\n",
        "\n",
        "\n",
        "def _run_checkpoint_once(tensor_dict,\n",
        "                         evaluators=None,\n",
        "                         batch_processor=None,\n",
        "                         checkpoint_dirs=None,\n",
        "                         variables_to_restore=None,\n",
        "                         restore_fn=None,\n",
        "                         num_batches=1,\n",
        "                         master='',\n",
        "                         save_graph=False,\n",
        "                         save_graph_dir='',\n",
        "                         losses_dict=None,\n",
        "                         eval_export_path=None,\n",
        "                         process_metrics_fn=None):\n",
        "  \"\"\"Evaluates metrics defined in evaluators and returns summaries.\n",
        "\n",
        "  This function loads the latest checkpoint in checkpoint_dirs and evaluates\n",
        "  all metrics defined in evaluators. The metrics are processed in batch by the\n",
        "  batch_processor.\n",
        "\n",
        "  Args:\n",
        "    tensor_dict: a dictionary holding tensors representing a batch of detections\n",
        "      and corresponding groundtruth annotations.\n",
        "    evaluators: a list of object of type DetectionEvaluator to be used for\n",
        "      evaluation. Note that the metric names produced by different evaluators\n",
        "      must be unique.\n",
        "    batch_processor: a function taking four arguments:\n",
        "      1. tensor_dict: the same tensor_dict that is passed in as the first\n",
        "        argument to this function.\n",
        "      2. sess: a tensorflow session\n",
        "      3. batch_index: an integer representing the index of the batch amongst\n",
        "        all batches\n",
        "      By default, batch_processor is None, which defaults to running:\n",
        "        return sess.run(tensor_dict)\n",
        "      To skip an image, it suffices to return an empty dictionary in place of\n",
        "      result_dict.\n",
        "    checkpoint_dirs: list of directories to load into an EnsembleModel. If it\n",
        "      has only one directory, EnsembleModel will not be used --\n",
        "        a DetectionModel\n",
        "      will be instantiated directly. Not used if restore_fn is set.\n",
        "    variables_to_restore: None, or a dictionary mapping variable names found in\n",
        "      a checkpoint to model variables. The dictionary would normally be\n",
        "      generated by creating a tf.train.ExponentialMovingAverage object and\n",
        "      calling its variables_to_restore() method. Not used if restore_fn is set.\n",
        "    restore_fn: None, or a function that takes a tf.Session object and correctly\n",
        "      restores all necessary variables from the correct checkpoint file. If\n",
        "      None, attempts to restore from the first directory in checkpoint_dirs.\n",
        "    num_batches: the number of batches to use for evaluation.\n",
        "    master: the location of the Tensorflow session.\n",
        "    save_graph: whether or not the Tensorflow graph is stored as a pbtxt file.\n",
        "    save_graph_dir: where to store the Tensorflow graph on disk. If save_graph\n",
        "      is True this must be non-empty.\n",
        "    losses_dict: optional dictionary of scalar detection losses.\n",
        "    eval_export_path: Path for saving a json file that contains the detection\n",
        "      results in json format.\n",
        "    process_metrics_fn: a callback called with evaluation results after each\n",
        "      evaluation is done.  It could be used e.g. to back up checkpoints with\n",
        "      best evaluation scores, or to call an external system to update evaluation\n",
        "      results in order to drive best hyper-parameter search.  Parameters are:\n",
        "      int checkpoint_number, Dict[str, ObjectDetectionEvalMetrics] metrics,\n",
        "      str checkpoint_file path.\n",
        "\n",
        "  Returns:\n",
        "    global_step: the count of global steps.\n",
        "    all_evaluator_metrics: A dictionary containing metric names and values.\n",
        "\n",
        "  Raises:\n",
        "    ValueError: if restore_fn is None and checkpoint_dirs doesn't have at least\n",
        "      one element.\n",
        "    ValueError: if save_graph is True and save_graph_dir is not defined.\n",
        "  \"\"\"\n",
        "  if save_graph and not save_graph_dir:\n",
        "    raise ValueError('`save_graph_dir` must be defined.')\n",
        "  sess = tf.Session(master, graph=tf.get_default_graph())\n",
        "  sess.run(tf.global_variables_initializer())\n",
        "  sess.run(tf.local_variables_initializer())\n",
        "  sess.run(tf.tables_initializer())\n",
        "  checkpoint_file = None\n",
        "  if restore_fn:\n",
        "    restore_fn(sess)\n",
        "  else:\n",
        "    if not checkpoint_dirs:\n",
        "      raise ValueError('`checkpoint_dirs` must have at least one entry.')\n",
        "    checkpoint_file = tf.train.latest_checkpoint(checkpoint_dirs[0])\n",
        "    saver = tf.train.Saver(variables_to_restore)\n",
        "    saver.restore(sess, checkpoint_file)\n",
        "\n",
        "  if save_graph:\n",
        "    tf.train.write_graph(sess.graph_def, save_graph_dir, 'eval.pbtxt')\n",
        "\n",
        "  counters = {'skipped': 0, 'success': 0}\n",
        "  aggregate_result_losses_dict = collections.defaultdict(list)\n",
        "  with tf.contrib.slim.queues.QueueRunners(sess):\n",
        "    try:\n",
        "      for batch in range(int(num_batches)):\n",
        "        if (batch + 1) % 100 == 0:\n",
        "          tf.logging.info('Running eval ops batch %d/%d', batch + 1,\n",
        "                          num_batches)\n",
        "        if not batch_processor:\n",
        "          try:\n",
        "            if not losses_dict:\n",
        "              losses_dict = {}\n",
        "            result_dict, result_losses_dict = sess.run([tensor_dict,\n",
        "                                                        losses_dict])\n",
        "            counters['success'] += 1\n",
        "          except tf.errors.InvalidArgumentError:\n",
        "            tf.logging.info('Skipping image')\n",
        "            counters['skipped'] += 1\n",
        "            result_dict = {}\n",
        "        else:\n",
        "          result_dict, result_losses_dict = batch_processor(\n",
        "              tensor_dict, sess, batch, counters, losses_dict=losses_dict)\n",
        "        if not result_dict:\n",
        "          continue\n",
        "        for key, value in iter(result_losses_dict.items()):\n",
        "          aggregate_result_losses_dict[key].append(value)\n",
        "        for evaluator in evaluators:\n",
        "          # TODO(b/65130867): Use image_id tensor once we fix the input data\n",
        "          # decoders to return correct image_id.\n",
        "          # TODO(akuznetsa): result_dict contains batches of images, while\n",
        "          # add_single_ground_truth_image_info expects a single image. Fix\n",
        "          if (isinstance(result_dict, dict) and\n",
        "              fields.InputDataFields.key in result_dict and\n",
        "              result_dict[fields.InputDataFields.key]):\n",
        "            image_id = result_dict[fields.InputDataFields.key]\n",
        "          else:\n",
        "            image_id = batch\n",
        "          evaluator.add_single_ground_truth_image_info(\n",
        "              image_id=image_id, groundtruth_dict=result_dict)\n",
        "          evaluator.add_single_detected_image_info(\n",
        "              image_id=image_id, detections_dict=result_dict)\n",
        "      tf.logging.info('Running eval batches done.')\n",
        "    except tf.errors.OutOfRangeError:\n",
        "      tf.logging.info('Done evaluating -- epoch limit reached')\n",
        "    finally:\n",
        "      # When done, ask the threads to stop.\n",
        "      tf.logging.info('# success: %d', counters['success'])\n",
        "      tf.logging.info('# skipped: %d', counters['skipped'])\n",
        "      all_evaluator_metrics = {}\n",
        "      if eval_export_path and eval_export_path is not None:\n",
        "        for evaluator in evaluators:\n",
        "          if (isinstance(evaluator, coco_evaluation.CocoDetectionEvaluator) or\n",
        "              isinstance(evaluator, coco_evaluation.CocoMaskEvaluator)):\n",
        "            tf.logging.info('Started dumping to json file.')\n",
        "            evaluator.dump_detections_to_json_file(\n",
        "                json_output_path=eval_export_path)\n",
        "            tf.logging.info('Finished dumping to json file.')\n",
        "      for evaluator in evaluators:\n",
        "        metrics = evaluator.evaluate()\n",
        "        evaluator.clear()\n",
        "        if any(key in all_evaluator_metrics for key in metrics):\n",
        "          raise ValueError('Metric names between evaluators must not collide.')\n",
        "        all_evaluator_metrics.update(metrics)\n",
        "      global_step = tf.train.global_step(sess, tf.train.get_global_step())\n",
        "\n",
        "      for key, value in iter(aggregate_result_losses_dict.items()):\n",
        "        all_evaluator_metrics['Losses/' + key] = np.mean(value)\n",
        "      if process_metrics_fn and checkpoint_file:\n",
        "        m = re.search(r'model.ckpt-(\\d+)$', checkpoint_file)\n",
        "        if not m:\n",
        "          tf.logging.error('Failed to parse checkpoint number from: %s',\n",
        "                           checkpoint_file)\n",
        "        else:\n",
        "          checkpoint_number = int(m.group(1))\n",
        "          process_metrics_fn(checkpoint_number, all_evaluator_metrics,\n",
        "                             checkpoint_file)\n",
        "  sess.close()\n",
        "  return (global_step, all_evaluator_metrics)\n",
        "\n",
        "\n",
        "# TODO(rathodv): Add tests.\n",
        "def repeated_checkpoint_run(tensor_dict,\n",
        "                            summary_dir,\n",
        "                            evaluators,\n",
        "                            batch_processor=None,\n",
        "                            checkpoint_dirs=None,\n",
        "                            variables_to_restore=None,\n",
        "                            restore_fn=None,\n",
        "                            num_batches=1,\n",
        "                            eval_interval_secs=120,\n",
        "                            max_number_of_evaluations=None,\n",
        "                            max_evaluation_global_step=None,\n",
        "                            master='',\n",
        "                            save_graph=False,\n",
        "                            save_graph_dir='',\n",
        "                            losses_dict=None,\n",
        "                            eval_export_path=None,\n",
        "                            process_metrics_fn=None):\n",
        "  \"\"\"Periodically evaluates desired tensors using checkpoint_dirs or restore_fn.\n",
        "\n",
        "  This function repeatedly loads a checkpoint and evaluates a desired\n",
        "  set of tensors (provided by tensor_dict) and hands the resulting numpy\n",
        "  arrays to a function result_processor which can be used to further\n",
        "  process/save/visualize the results.\n",
        "\n",
        "  Args:\n",
        "    tensor_dict: a dictionary holding tensors representing a batch of detections\n",
        "      and corresponding groundtruth annotations.\n",
        "    summary_dir: a directory to write metrics summaries.\n",
        "    evaluators: a list of object of type DetectionEvaluator to be used for\n",
        "      evaluation. Note that the metric names produced by different evaluators\n",
        "      must be unique.\n",
        "    batch_processor: a function taking three arguments:\n",
        "      1. tensor_dict: the same tensor_dict that is passed in as the first\n",
        "        argument to this function.\n",
        "      2. sess: a tensorflow session\n",
        "      3. batch_index: an integer representing the index of the batch amongst\n",
        "        all batches\n",
        "      By default, batch_processor is None, which defaults to running:\n",
        "        return sess.run(tensor_dict)\n",
        "    checkpoint_dirs: list of directories to load into a DetectionModel or an\n",
        "      EnsembleModel if restore_fn isn't set. Also used to determine when to run\n",
        "      next evaluation. Must have at least one element.\n",
        "    variables_to_restore: None, or a dictionary mapping variable names found in\n",
        "      a checkpoint to model variables. The dictionary would normally be\n",
        "      generated by creating a tf.train.ExponentialMovingAverage object and\n",
        "      calling its variables_to_restore() method. Not used if restore_fn is set.\n",
        "    restore_fn: a function that takes a tf.Session object and correctly restores\n",
        "      all necessary variables from the correct checkpoint file.\n",
        "    num_batches: the number of batches to use for evaluation.\n",
        "    eval_interval_secs: the number of seconds between each evaluation run.\n",
        "    max_number_of_evaluations: the max number of iterations of the evaluation.\n",
        "      If the value is left as None the evaluation continues indefinitely.\n",
        "    max_evaluation_global_step: global step when evaluation stops.\n",
        "    master: the location of the Tensorflow session.\n",
        "    save_graph: whether or not the Tensorflow graph is saved as a pbtxt file.\n",
        "    save_graph_dir: where to save on disk the Tensorflow graph. If store_graph\n",
        "      is True this must be non-empty.\n",
        "    losses_dict: optional dictionary of scalar detection losses.\n",
        "    eval_export_path: Path for saving a json file that contains the detection\n",
        "      results in json format.\n",
        "    process_metrics_fn: a callback called with evaluation results after each\n",
        "      evaluation is done.  It could be used e.g. to back up checkpoints with\n",
        "      best evaluation scores, or to call an external system to update evaluation\n",
        "      results in order to drive best hyper-parameter search.  Parameters are:\n",
        "      int checkpoint_number, Dict[str, ObjectDetectionEvalMetrics] metrics,\n",
        "      str checkpoint_file path.\n",
        "\n",
        "  Returns:\n",
        "    metrics: A dictionary containing metric names and values in the latest\n",
        "      evaluation.\n",
        "\n",
        "  Raises:\n",
        "    ValueError: if max_num_of_evaluations is not None or a positive number.\n",
        "    ValueError: if checkpoint_dirs doesn't have at least one element.\n",
        "  \"\"\"\n",
        "  if max_number_of_evaluations and max_number_of_evaluations <= 0:\n",
        "    raise ValueError(\n",
        "        '`max_number_of_evaluations` must be either None or a positive number.')\n",
        "  if max_evaluation_global_step and max_evaluation_global_step <= 0:\n",
        "    raise ValueError(\n",
        "        '`max_evaluation_global_step` must be either None or positive.')\n",
        "\n",
        "  if not checkpoint_dirs:\n",
        "    raise ValueError('`checkpoint_dirs` must have at least one entry.')\n",
        "\n",
        "  last_evaluated_model_path = None\n",
        "  number_of_evaluations = 0\n",
        "  while True:\n",
        "    start = time.time()\n",
        "    tf.logging.info('Starting evaluation at ' + time.strftime(\n",
        "        '%Y-%m-%d-%H:%M:%S', time.gmtime()))\n",
        "    model_path = tf.train.latest_checkpoint(checkpoint_dirs[0])\n",
        "    if not model_path:\n",
        "      tf.logging.info('No model found in %s. Will try again in %d seconds',\n",
        "                      checkpoint_dirs[0], eval_interval_secs)\n",
        "    elif model_path == last_evaluated_model_path:\n",
        "      tf.logging.info('Found already evaluated checkpoint. Will try again in '\n",
        "                      '%d seconds', eval_interval_secs)\n",
        "    else:\n",
        "      last_evaluated_model_path = model_path\n",
        "      global_step, metrics = _run_checkpoint_once(\n",
        "          tensor_dict,\n",
        "          evaluators,\n",
        "          batch_processor,\n",
        "          checkpoint_dirs,\n",
        "          variables_to_restore,\n",
        "          restore_fn,\n",
        "          num_batches,\n",
        "          master,\n",
        "          save_graph,\n",
        "          save_graph_dir,\n",
        "          losses_dict=losses_dict,\n",
        "          eval_export_path=eval_export_path,\n",
        "          process_metrics_fn=process_metrics_fn)\n",
        "      write_metrics(metrics, global_step, summary_dir)\n",
        "      if (max_evaluation_global_step and\n",
        "          global_step >= max_evaluation_global_step):\n",
        "        tf.logging.info('Finished evaluation!')\n",
        "        break\n",
        "    number_of_evaluations += 1\n",
        "\n",
        "    if (max_number_of_evaluations and\n",
        "        number_of_evaluations >= max_number_of_evaluations):\n",
        "      tf.logging.info('Finished evaluation!')\n",
        "      break\n",
        "    time_to_next_eval = start + eval_interval_secs - time.time()\n",
        "    if time_to_next_eval > 0:\n",
        "      time.sleep(time_to_next_eval)\n",
        "\n",
        "  return metrics\n",
        "\n",
        "\n",
        "def _scale_box_to_absolute(args):\n",
        "  boxes, image_shape = args\n",
        "  return box_list_ops.to_absolute_coordinates(\n",
        "      box_list.BoxList(boxes), image_shape[0], image_shape[1]).get()\n",
        "\n",
        "\n",
        "def _resize_detection_masks(args):\n",
        "  detection_boxes, detection_masks, image_shape = args\n",
        "  detection_masks_reframed = ops.reframe_box_masks_to_image_masks(\n",
        "      detection_masks, detection_boxes, image_shape[0], image_shape[1])\n",
        "  return tf.cast(tf.greater(detection_masks_reframed, 0.5), tf.uint8)\n",
        "\n",
        "\n",
        "def _resize_groundtruth_masks(args):\n",
        "  mask, image_shape = args\n",
        "  mask = tf.expand_dims(mask, 3)\n",
        "  mask = tf.image.resize_images(\n",
        "      mask,\n",
        "      image_shape,\n",
        "      method=tf.image.ResizeMethod.NEAREST_NEIGHBOR,\n",
        "      align_corners=True)\n",
        "  return tf.cast(tf.squeeze(mask, 3), tf.uint8)\n",
        "\n",
        "\n",
        "def _scale_keypoint_to_absolute(args):\n",
        "  keypoints, image_shape = args\n",
        "  return keypoint_ops.scale(keypoints, image_shape[0], image_shape[1])\n",
        "\n",
        "\n",
        "def result_dict_for_single_example(image,\n",
        "                                   key,\n",
        "                                   detections,\n",
        "                                   groundtruth=None,\n",
        "                                   class_agnostic=False,\n",
        "                                   scale_to_absolute=False):\n",
        "  \"\"\"Merges all detection and groundtruth information for a single example.\n",
        "\n",
        "  Note that evaluation tools require classes that are 1-indexed, and so this\n",
        "  function performs the offset. If `class_agnostic` is True, all output classes\n",
        "  have label 1.\n",
        "\n",
        "  Args:\n",
        "    image: A single 4D uint8 image tensor of shape [1, H, W, C].\n",
        "    key: A single string tensor identifying the image.\n",
        "    detections: A dictionary of detections, returned from\n",
        "      DetectionModel.postprocess().\n",
        "    groundtruth: (Optional) Dictionary of groundtruth items, with fields:\n",
        "      'groundtruth_boxes': [num_boxes, 4] float32 tensor of boxes, in\n",
        "        normalized coordinates.\n",
        "      'groundtruth_classes': [num_boxes] int64 tensor of 1-indexed classes.\n",
        "      'groundtruth_area': [num_boxes] float32 tensor of bbox area. (Optional)\n",
        "      'groundtruth_is_crowd': [num_boxes] int64 tensor. (Optional)\n",
        "      'groundtruth_difficult': [num_boxes] int64 tensor. (Optional)\n",
        "      'groundtruth_group_of': [num_boxes] int64 tensor. (Optional)\n",
        "      'groundtruth_instance_masks': 3D int64 tensor of instance masks\n",
        "        (Optional).\n",
        "    class_agnostic: Boolean indicating whether the detections are class-agnostic\n",
        "      (i.e. binary). Default False.\n",
        "    scale_to_absolute: Boolean indicating whether boxes and keypoints should be\n",
        "      scaled to absolute coordinates. Note that for IoU based evaluations, it\n",
        "      does not matter whether boxes are expressed in absolute or relative\n",
        "      coordinates. Default False.\n",
        "\n",
        "  Returns:\n",
        "    A dictionary with:\n",
        "    'original_image': A [1, H, W, C] uint8 image tensor.\n",
        "    'key': A string tensor with image identifier.\n",
        "    'detection_boxes': [max_detections, 4] float32 tensor of boxes, in\n",
        "      normalized or absolute coordinates, depending on the value of\n",
        "      `scale_to_absolute`.\n",
        "    'detection_scores': [max_detections] float32 tensor of scores.\n",
        "    'detection_classes': [max_detections] int64 tensor of 1-indexed classes.\n",
        "    'detection_masks': [max_detections, H, W] float32 tensor of binarized\n",
        "      masks, reframed to full image masks.\n",
        "    'groundtruth_boxes': [num_boxes, 4] float32 tensor of boxes, in\n",
        "      normalized or absolute coordinates, depending on the value of\n",
        "      `scale_to_absolute`. (Optional)\n",
        "    'groundtruth_classes': [num_boxes] int64 tensor of 1-indexed classes.\n",
        "      (Optional)\n",
        "    'groundtruth_area': [num_boxes] float32 tensor of bbox area. (Optional)\n",
        "    'groundtruth_is_crowd': [num_boxes] int64 tensor. (Optional)\n",
        "    'groundtruth_difficult': [num_boxes] int64 tensor. (Optional)\n",
        "    'groundtruth_group_of': [num_boxes] int64 tensor. (Optional)\n",
        "    'groundtruth_instance_masks': 3D int64 tensor of instance masks\n",
        "      (Optional).\n",
        "\n",
        "  \"\"\"\n",
        "\n",
        "  if groundtruth:\n",
        "    max_gt_boxes = tf.shape(\n",
        "        groundtruth[fields.InputDataFields.groundtruth_boxes])[0]\n",
        "    for gt_key in groundtruth:\n",
        "      # expand groundtruth dict along the batch dimension.\n",
        "      groundtruth[gt_key] = tf.expand_dims(groundtruth[gt_key], 0)\n",
        "\n",
        "  for detection_key in detections:\n",
        "    detections[detection_key] = tf.expand_dims(\n",
        "        detections[detection_key][0], axis=0)\n",
        "\n",
        "  batched_output_dict = result_dict_for_batched_example(\n",
        "      image,\n",
        "      tf.expand_dims(key, 0),\n",
        "      detections,\n",
        "      groundtruth,\n",
        "      class_agnostic,\n",
        "      scale_to_absolute,\n",
        "      max_gt_boxes=max_gt_boxes)\n",
        "\n",
        "  exclude_keys = [\n",
        "      fields.InputDataFields.original_image,\n",
        "      fields.DetectionResultFields.num_detections,\n",
        "      fields.InputDataFields.num_groundtruth_boxes\n",
        "  ]\n",
        "\n",
        "  output_dict = {\n",
        "      fields.InputDataFields.original_image:\n",
        "          batched_output_dict[fields.InputDataFields.original_image]\n",
        "  }\n",
        "\n",
        "  for key in batched_output_dict:\n",
        "    # remove the batch dimension.\n",
        "    if key not in exclude_keys:\n",
        "      output_dict[key] = tf.squeeze(batched_output_dict[key], 0)\n",
        "  return output_dict\n",
        "\n",
        "\n",
        "def result_dict_for_batched_example(images,\n",
        "                                    keys,\n",
        "                                    detections,\n",
        "                                    groundtruth=None,\n",
        "                                    class_agnostic=False,\n",
        "                                    scale_to_absolute=False,\n",
        "                                    original_image_spatial_shapes=None,\n",
        "                                    true_image_shapes=None,\n",
        "                                    max_gt_boxes=None):\n",
        "  \"\"\"Merges all detection and groundtruth information for a single example.\n",
        "\n",
        "  Note that evaluation tools require classes that are 1-indexed, and so this\n",
        "  function performs the offset. If `class_agnostic` is True, all output classes\n",
        "  have label 1.\n",
        "\n",
        "  Args:\n",
        "    images: A single 4D uint8 image tensor of shape [batch_size, H, W, C].\n",
        "    keys: A [batch_size] string tensor with image identifier.\n",
        "    detections: A dictionary of detections, returned from\n",
        "      DetectionModel.postprocess().\n",
        "    groundtruth: (Optional) Dictionary of groundtruth items, with fields:\n",
        "      'groundtruth_boxes': [batch_size, max_number_of_boxes, 4] float32 tensor\n",
        "        of boxes, in normalized coordinates.\n",
        "      'groundtruth_classes':  [batch_size, max_number_of_boxes] int64 tensor of\n",
        "        1-indexed classes.\n",
        "      'groundtruth_area': [batch_size, max_number_of_boxes] float32 tensor of\n",
        "        bbox area. (Optional)\n",
        "      'groundtruth_is_crowd':[batch_size, max_number_of_boxes] int64\n",
        "        tensor. (Optional)\n",
        "      'groundtruth_difficult': [batch_size, max_number_of_boxes] int64\n",
        "        tensor. (Optional)\n",
        "      'groundtruth_group_of': [batch_size, max_number_of_boxes] int64\n",
        "        tensor. (Optional)\n",
        "      'groundtruth_instance_masks': 4D int64 tensor of instance\n",
        "        masks (Optional).\n",
        "    class_agnostic: Boolean indicating whether the detections are class-agnostic\n",
        "      (i.e. binary). Default False.\n",
        "    scale_to_absolute: Boolean indicating whether boxes and keypoints should be\n",
        "      scaled to absolute coordinates. Note that for IoU based evaluations, it\n",
        "      does not matter whether boxes are expressed in absolute or relative\n",
        "      coordinates. Default False.\n",
        "    original_image_spatial_shapes: A 2D int32 tensor of shape [batch_size, 2]\n",
        "      used to resize the image. When set to None, the image size is retained.\n",
        "    true_image_shapes: A 2D int32 tensor of shape [batch_size, 3]\n",
        "      containing the size of the unpadded original_image.\n",
        "    max_gt_boxes: [batch_size] tensor representing the maximum number of\n",
        "      groundtruth boxes to pad.\n",
        "\n",
        "  Returns:\n",
        "    A dictionary with:\n",
        "    'original_image': A [batch_size, H, W, C] uint8 image tensor.\n",
        "    'original_image_spatial_shape': A [batch_size, 2] tensor containing the\n",
        "      original image sizes.\n",
        "    'true_image_shape': A [batch_size, 3] tensor containing the size of\n",
        "      the unpadded original_image.\n",
        "    'key': A [batch_size] string tensor with image identifier.\n",
        "    'detection_boxes': [batch_size, max_detections, 4] float32 tensor of boxes,\n",
        "      in normalized or absolute coordinates, depending on the value of\n",
        "      `scale_to_absolute`.\n",
        "    'detection_scores': [batch_size, max_detections] float32 tensor of scores.\n",
        "    'detection_classes': [batch_size, max_detections] int64 tensor of 1-indexed\n",
        "      classes.\n",
        "    'detection_masks': [batch_size, max_detections, H, W] float32 tensor of\n",
        "      binarized masks, reframed to full image masks.\n",
        "    'num_detections': [batch_size] int64 tensor containing number of valid\n",
        "      detections.\n",
        "    'groundtruth_boxes': [batch_size, num_boxes, 4] float32 tensor of boxes, in\n",
        "      normalized or absolute coordinates, depending on the value of\n",
        "      `scale_to_absolute`. (Optional)\n",
        "    'groundtruth_classes': [batch_size, num_boxes] int64 tensor of 1-indexed\n",
        "      classes. (Optional)\n",
        "    'groundtruth_area': [batch_size, num_boxes] float32 tensor of bbox\n",
        "      area. (Optional)\n",
        "    'groundtruth_is_crowd': [batch_size, num_boxes] int64 tensor. (Optional)\n",
        "    'groundtruth_difficult': [batch_size, num_boxes] int64 tensor. (Optional)\n",
        "    'groundtruth_group_of': [batch_size, num_boxes] int64 tensor. (Optional)\n",
        "    'groundtruth_instance_masks': 4D int64 tensor of instance masks\n",
        "      (Optional).\n",
        "    'num_groundtruth_boxes': [batch_size] tensor containing the maximum number\n",
        "      of groundtruth boxes per image.\n",
        "\n",
        "  Raises:\n",
        "    ValueError: if original_image_spatial_shape is not 2D int32 tensor of shape\n",
        "      [2].\n",
        "    ValueError: if true_image_shapes is not 2D int32 tensor of shape\n",
        "      [3].\n",
        "  \"\"\"\n",
        "  label_id_offset = 1  # Applying label id offset (b/63711816)\n",
        "\n",
        "  input_data_fields = fields.InputDataFields\n",
        "  if original_image_spatial_shapes is None:\n",
        "    original_image_spatial_shapes = tf.tile(\n",
        "        tf.expand_dims(tf.shape(images)[1:3], axis=0),\n",
        "        multiples=[tf.shape(images)[0], 1])\n",
        "  else:\n",
        "    if (len(original_image_spatial_shapes.shape) != 2 and\n",
        "        original_image_spatial_shapes.shape[1] != 2):\n",
        "      raise ValueError(\n",
        "          '`original_image_spatial_shape` should be a 2D tensor of shape '\n",
        "          '[batch_size, 2].')\n",
        "\n",
        "  if true_image_shapes is None:\n",
        "    true_image_shapes = tf.tile(\n",
        "        tf.expand_dims(tf.shape(images)[1:4], axis=0),\n",
        "        multiples=[tf.shape(images)[0], 1])\n",
        "  else:\n",
        "    if (len(true_image_shapes.shape) != 2\n",
        "        and true_image_shapes.shape[1] != 3):\n",
        "      raise ValueError('`true_image_shapes` should be a 2D tensor of '\n",
        "                       'shape [batch_size, 3].')\n",
        "\n",
        "  output_dict = {\n",
        "      input_data_fields.original_image:\n",
        "          images,\n",
        "      input_data_fields.key:\n",
        "          keys,\n",
        "      input_data_fields.original_image_spatial_shape: (\n",
        "          original_image_spatial_shapes),\n",
        "      input_data_fields.true_image_shape:\n",
        "          true_image_shapes\n",
        "  }\n",
        "\n",
        "  detection_fields = fields.DetectionResultFields\n",
        "  detection_boxes = detections[detection_fields.detection_boxes]\n",
        "  detection_scores = detections[detection_fields.detection_scores]\n",
        "  num_detections = tf.cast(detections[detection_fields.num_detections],\n",
        "                           dtype=tf.int32)\n",
        "\n",
        "  if class_agnostic:\n",
        "    detection_classes = tf.ones_like(detection_scores, dtype=tf.int64)\n",
        "  else:\n",
        "    detection_classes = (\n",
        "        tf.to_int64(detections[detection_fields.detection_classes]) +\n",
        "        label_id_offset)\n",
        "\n",
        "  if scale_to_absolute:\n",
        "    output_dict[detection_fields.detection_boxes] = (\n",
        "        shape_utils.static_or_dynamic_map_fn(\n",
        "            _scale_box_to_absolute,\n",
        "            elems=[detection_boxes, original_image_spatial_shapes],\n",
        "            dtype=tf.float32))\n",
        "  else:\n",
        "    output_dict[detection_fields.detection_boxes] = detection_boxes\n",
        "  output_dict[detection_fields.detection_classes] = detection_classes\n",
        "  output_dict[detection_fields.detection_scores] = detection_scores\n",
        "  output_dict[detection_fields.num_detections] = num_detections\n",
        "\n",
        "  if detection_fields.detection_masks in detections:\n",
        "    detection_masks = detections[detection_fields.detection_masks]\n",
        "    # TODO(rathodv): This should be done in model's postprocess\n",
        "    # function ideally.\n",
        "    output_dict[detection_fields.detection_masks] = (\n",
        "        shape_utils.static_or_dynamic_map_fn(\n",
        "            _resize_detection_masks,\n",
        "            elems=[detection_boxes, detection_masks,\n",
        "                   original_image_spatial_shapes],\n",
        "            dtype=tf.uint8))\n",
        "\n",
        "  if detection_fields.detection_keypoints in detections:\n",
        "    detection_keypoints = detections[detection_fields.detection_keypoints]\n",
        "    output_dict[detection_fields.detection_keypoints] = detection_keypoints\n",
        "    if scale_to_absolute:\n",
        "      output_dict[detection_fields.detection_keypoints] = (\n",
        "          shape_utils.static_or_dynamic_map_fn(\n",
        "              _scale_keypoint_to_absolute,\n",
        "              elems=[detection_keypoints, original_image_spatial_shapes],\n",
        "              dtype=tf.float32))\n",
        "\n",
        "  if groundtruth:\n",
        "    if max_gt_boxes is None:\n",
        "      if input_data_fields.num_groundtruth_boxes in groundtruth:\n",
        "        max_gt_boxes = groundtruth[input_data_fields.num_groundtruth_boxes]\n",
        "      else:\n",
        "        raise ValueError(\n",
        "            'max_gt_boxes must be provided when processing batched examples.')\n",
        "\n",
        "    if input_data_fields.groundtruth_instance_masks in groundtruth:\n",
        "      masks = groundtruth[input_data_fields.groundtruth_instance_masks]\n",
        "      groundtruth[input_data_fields.groundtruth_instance_masks] = (\n",
        "          shape_utils.static_or_dynamic_map_fn(\n",
        "              _resize_groundtruth_masks,\n",
        "              elems=[masks, original_image_spatial_shapes],\n",
        "              dtype=tf.uint8))\n",
        "\n",
        "    output_dict.update(groundtruth)\n",
        "\n",
        "    image_shape = tf.cast(tf.shape(images), tf.float32)\n",
        "    image_height, image_width = image_shape[1], image_shape[2]\n",
        "\n",
        "    def _scale_box_to_normalized_true_image(args):\n",
        "      \"\"\"Scale the box coordinates to be relative to the true image shape.\"\"\"\n",
        "      boxes, true_image_shape = args\n",
        "      true_image_shape = tf.cast(true_image_shape, tf.float32)\n",
        "      true_height, true_width = true_image_shape[0], true_image_shape[1]\n",
        "      normalized_window = tf.stack([0.0, 0.0, true_height / image_height,\n",
        "                                    true_width / image_width])\n",
        "      return box_list_ops.change_coordinate_frame(\n",
        "          box_list.BoxList(boxes), normalized_window).get()\n",
        "\n",
        "    groundtruth_boxes = groundtruth[input_data_fields.groundtruth_boxes]\n",
        "    groundtruth_boxes = shape_utils.static_or_dynamic_map_fn(\n",
        "        _scale_box_to_normalized_true_image,\n",
        "        elems=[groundtruth_boxes, true_image_shapes], dtype=tf.float32)\n",
        "    output_dict[input_data_fields.groundtruth_boxes] = groundtruth_boxes\n",
        "\n",
        "    if scale_to_absolute:\n",
        "      groundtruth_boxes = output_dict[input_data_fields.groundtruth_boxes]\n",
        "      output_dict[input_data_fields.groundtruth_boxes] = (\n",
        "          shape_utils.static_or_dynamic_map_fn(\n",
        "              _scale_box_to_absolute,\n",
        "              elems=[groundtruth_boxes, original_image_spatial_shapes],\n",
        "              dtype=tf.float32))\n",
        "\n",
        "    # For class-agnostic models, groundtruth classes all become 1.\n",
        "    if class_agnostic:\n",
        "      groundtruth_classes = groundtruth[input_data_fields.groundtruth_classes]\n",
        "      groundtruth_classes = tf.ones_like(groundtruth_classes, dtype=tf.int64)\n",
        "      output_dict[input_data_fields.groundtruth_classes] = groundtruth_classes\n",
        "\n",
        "    output_dict[input_data_fields.num_groundtruth_boxes] = max_gt_boxes\n",
        "\n",
        "  return output_dict\n",
        "\n",
        "\n",
        "def get_evaluators(eval_config, categories, evaluator_options=None):\n",
        "  \"\"\"Returns the evaluator class according to eval_config, valid for categories.\n",
        "\n",
        "  Args:\n",
        "    eval_config: An `eval_pb2.EvalConfig`.\n",
        "    categories: A list of dicts, each of which has the following keys -\n",
        "        'id': (required) an integer id uniquely identifying this category.\n",
        "        'name': (required) string representing category name e.g., 'cat', 'dog'.\n",
        "    evaluator_options: A dictionary of metric names (see\n",
        "      EVAL_METRICS_CLASS_DICT) to `DetectionEvaluator` initialization\n",
        "      keyword arguments. For example:\n",
        "      evalator_options = {\n",
        "        'coco_detection_metrics': {'include_metrics_per_category': True}\n",
        "      }\n",
        "\n",
        "  Returns:\n",
        "    An list of instances of DetectionEvaluator.\n",
        "\n",
        "  Raises:\n",
        "    ValueError: if metric is not in the metric class dictionary.\n",
        "  \"\"\"\n",
        "  evaluator_options = evaluator_options or {}\n",
        "  eval_metric_fn_keys = eval_config.metrics_set\n",
        "  if not eval_metric_fn_keys:\n",
        "    eval_metric_fn_keys = [EVAL_DEFAULT_METRIC]\n",
        "  evaluators_list = []\n",
        "  for eval_metric_fn_key in eval_metric_fn_keys:\n",
        "    if eval_metric_fn_key not in EVAL_METRICS_CLASS_DICT:\n",
        "      raise ValueError('Metric not found: {}'.format(eval_metric_fn_key))\n",
        "    kwargs_dict = (evaluator_options[eval_metric_fn_key] if eval_metric_fn_key\n",
        "                   in evaluator_options else {})\n",
        "    evaluators_list.append(EVAL_METRICS_CLASS_DICT[eval_metric_fn_key](\n",
        "        categories,\n",
        "        **kwargs_dict))\n",
        "  return evaluators_list\n",
        "\n",
        "\n",
        "def get_eval_metric_ops_for_evaluators(eval_config,\n",
        "                                       categories,\n",
        "                                       eval_dict):\n",
        "  \"\"\"Returns eval metrics ops to use with `tf.estimator.EstimatorSpec`.\n",
        "\n",
        "  Args:\n",
        "    eval_config: An `eval_pb2.EvalConfig`.\n",
        "    categories: A list of dicts, each of which has the following keys -\n",
        "        'id': (required) an integer id uniquely identifying this category.\n",
        "        'name': (required) string representing category name e.g., 'cat', 'dog'.\n",
        "    eval_dict: An evaluation dictionary, returned from\n",
        "      result_dict_for_single_example().\n",
        "\n",
        "  Returns:\n",
        "    A dictionary of metric names to tuple of value_op and update_op that can be\n",
        "    used as eval metric ops in tf.EstimatorSpec.\n",
        "  \"\"\"\n",
        "  eval_metric_ops = {}\n",
        "  evaluator_options = evaluator_options_from_eval_config(eval_config)\n",
        "  evaluators_list = get_evaluators(eval_config, categories, evaluator_options)\n",
        "  for evaluator in evaluators_list:\n",
        "    eval_metric_ops.update(evaluator.get_estimator_eval_metric_ops(\n",
        "        eval_dict))\n",
        "  return eval_metric_ops\n",
        "\n",
        "\n",
        "def evaluator_options_from_eval_config(eval_config):\n",
        "  \"\"\"Produces a dictionary of evaluation options for each eval metric.\n",
        "\n",
        "  Args:\n",
        "    eval_config: An `eval_pb2.EvalConfig`.\n",
        "\n",
        "  Returns:\n",
        "    evaluator_options: A dictionary of metric names (see\n",
        "      EVAL_METRICS_CLASS_DICT) to `DetectionEvaluator` initialization\n",
        "      keyword arguments. For example:\n",
        "      evalator_options = {\n",
        "        'coco_detection_metrics': {'include_metrics_per_category': True}\n",
        "      }\n",
        "  \"\"\"\n",
        "  eval_metric_fn_keys = eval_config.metrics_set\n",
        "  evaluator_options = {}\n",
        "  for eval_metric_fn_key in eval_metric_fn_keys:\n",
        "    if eval_metric_fn_key in ('coco_detection_metrics', 'coco_mask_metrics'):\n",
        "      evaluator_options[eval_metric_fn_key] = {\n",
        "          'include_metrics_per_category': (\n",
        "              eval_config.include_metrics_per_category)\n",
        "      }\n",
        "    elif eval_metric_fn_key == 'precision_at_recall_detection_metrics':\n",
        "      evaluator_options[eval_metric_fn_key] = {\n",
        "          'recall_lower_bound': (eval_config.recall_lower_bound),\n",
        "          'recall_upper_bound': (eval_config.recall_upper_bound)\n",
        "      }\n",
        "  return evaluator_options"
      ],
      "execution_count": 0,
      "outputs": []
    },
    {
      "cell_type": "markdown",
      "metadata": {
        "id": "VG1_K0A5nmjH",
        "colab_type": "text"
      },
      "source": [
        ""
      ]
    },
    {
      "cell_type": "markdown",
      "metadata": {
        "colab_type": "text",
        "id": "LBdjK2G5ywuc"
      },
      "source": [
        "### Imports"
      ]
    },
    {
      "cell_type": "code",
      "metadata": {
        "colab_type": "code",
        "id": "hV4P5gyTWKMI",
        "colab": {}
      },
      "source": [
        "import numpy as np\n",
        "import os\n",
        "import six.moves.urllib as urllib\n",
        "import sys\n",
        "import tarfile\n",
        "import tensorflow as tf\n",
        "import zipfile\n",
        "\n",
        "from collections import defaultdict\n",
        "from io import StringIO\n",
        "from matplotlib import pyplot as plt\n",
        "from PIL import Image\n",
        "from IPython.display import display"
      ],
      "execution_count": 0,
      "outputs": []
    },
    {
      "cell_type": "markdown",
      "metadata": {
        "colab_type": "text",
        "id": "r5FNuiRPWKMN"
      },
      "source": [
        "Import the object detection module."
      ]
    },
    {
      "cell_type": "code",
      "metadata": {
        "colab_type": "code",
        "id": "4-IMl4b6BdGO",
        "colab": {}
      },
      "source": [
        "from object_detection.utils import ops as utils_ops\n",
        "from object_detection.utils import label_map_util\n",
        "from object_detection.utils import visualization_utils as vis_util"
      ],
      "execution_count": 0,
      "outputs": []
    },
    {
      "cell_type": "markdown",
      "metadata": {
        "colab_type": "text",
        "id": "RYPCiag2iz_q"
      },
      "source": [
        "Patches:"
      ]
    },
    {
      "cell_type": "code",
      "metadata": {
        "colab_type": "code",
        "id": "mF-YlMl8c_bM",
        "colab": {}
      },
      "source": [
        "# patch tf1 into `utils.ops`\n",
        "utils_ops.tf = tf.compat.v1\n",
        "\n",
        "# Patch the location of gfile\n",
        "tf.gfile = tf.io.gfile"
      ],
      "execution_count": 0,
      "outputs": []
    },
    {
      "cell_type": "markdown",
      "metadata": {
        "colab_type": "text",
        "id": "cfn_tRFOWKMO"
      },
      "source": [
        "# Model preparation "
      ]
    },
    {
      "cell_type": "markdown",
      "metadata": {
        "colab_type": "text",
        "id": "X_sEBLpVWKMQ"
      },
      "source": [
        "## Variables\n",
        "\n",
        "Any model exported using the `export_inference_graph.py` tool can be loaded here simply by changing the path.\n",
        "\n",
        "By default we use an \"SSD with Mobilenet\" model here. See the [detection model zoo](https://github.com/tensorflow/models/blob/master/research/object_detection/g3doc/detection_model_zoo.md) for a list of other models that can be run out-of-the-box with varying speeds and accuracies."
      ]
    },
    {
      "cell_type": "markdown",
      "metadata": {
        "colab_type": "text",
        "id": "7ai8pLZZWKMS"
      },
      "source": [
        "## Loader"
      ]
    },
    {
      "cell_type": "code",
      "metadata": {
        "colab_type": "code",
        "id": "zm8xp-0eoItE",
        "colab": {}
      },
      "source": [
        "def load_model(model_name):\n",
        "  base_url = 'http://download.tensorflow.org/models/object_detection/'\n",
        "  model_file = model_name + '.tar.gz'\n",
        "  model_dir = tf.keras.utils.get_file(\n",
        "    fname=model_name, \n",
        "    origin=base_url + model_file,\n",
        "    untar=True)\n",
        "\n",
        "  model_dir = pathlib.Path(model_dir)/\"saved_model\"\n",
        "\n",
        "  model = tf.saved_model.load(str(model_dir))\n",
        "  model = model.signatures['serving_default']\n",
        "\n",
        "  return model"
      ],
      "execution_count": 0,
      "outputs": []
    },
    {
      "cell_type": "markdown",
      "metadata": {
        "colab_type": "text",
        "id": "_1MVVTcLWKMW"
      },
      "source": [
        "## Loading label map\n",
        "Label maps map indices to category names, so that when our convolution network predicts `5`, we know that this corresponds to `airplane`.  Here we use internal utility functions, but anything that returns a dictionary mapping integers to appropriate string labels would be fine"
      ]
    },
    {
      "cell_type": "code",
      "metadata": {
        "colab_type": "code",
        "id": "hDbpHkiWWKMX",
        "colab": {}
      },
      "source": [
        "# List of the strings that is used to add correct label for each box.\n",
        "PATH_TO_LABELS = 'models/research/object_detection/data/mscoco_label_map.pbtxt'\n",
        "category_index = label_map_util.create_category_index_from_labelmap(PATH_TO_LABELS, use_display_name=True)"
      ],
      "execution_count": 0,
      "outputs": []
    },
    {
      "cell_type": "markdown",
      "metadata": {
        "colab_type": "text",
        "id": "oVU3U_J6IJVb"
      },
      "source": [
        "For the sake of simplicity we will test on 2 images:"
      ]
    },
    {
      "cell_type": "code",
      "metadata": {
        "id": "MmgbJ_2FBnqK",
        "colab_type": "code",
        "colab": {}
      },
      "source": [
        "from google.colab import drive\n",
        "drive.mount('/content/drive')"
      ],
      "execution_count": 0,
      "outputs": []
    },
    {
      "cell_type": "code",
      "metadata": {
        "colab_type": "code",
        "id": "jG-zn5ykWKMd",
        "colab": {}
      },
      "source": [
        "# If you want to test the code with your images, just add path to the images to the TEST_IMAGE_PATHS.\n",
        "!unzip -uq \"/content/drive/My Drive/approach1_frames.zip\" -d \"models/research/object_detection/test_images\""
      ],
      "execution_count": 0,
      "outputs": []
    },
    {
      "cell_type": "code",
      "metadata": {
        "id": "cDoXQ18xF4ox",
        "colab_type": "code",
        "colab": {}
      },
      "source": [
        "!unzip -uq \"/content/drive/My Drive/approach1_sample.zip\" -d \"models/research/object_detection/test_images\""
      ],
      "execution_count": 0,
      "outputs": []
    },
    {
      "cell_type": "code",
      "metadata": {
        "id": "URAdjCw4G-1p",
        "colab_type": "code",
        "colab": {}
      },
      "source": [
        "!unzip -uq \"/content/drive/My Drive/approach1_sample_saturated.zip\" -d \"models/research/object_detection/test_images\""
      ],
      "execution_count": 0,
      "outputs": []
    },
    {
      "cell_type": "code",
      "metadata": {
        "id": "PNUDM-iQH0O8",
        "colab_type": "code",
        "colab": {}
      },
      "source": [
        "!unzip -uq \"/content/drive/My Drive/approach1_sample_super_saturated.zip\" -d \"models/research/object_detection/test_images\""
      ],
      "execution_count": 0,
      "outputs": []
    },
    {
      "cell_type": "markdown",
      "metadata": {
        "id": "kvkaNaKzDFiq",
        "colab_type": "text"
      },
      "source": [
        ""
      ]
    },
    {
      "cell_type": "code",
      "metadata": {
        "id": "yRoOe9a7ECNj",
        "colab_type": "code",
        "colab": {}
      },
      "source": [
        "PATH_TO_TEST_IMAGES_DIR = pathlib.Path('models/research/object_detection/test_images')\n",
        "TEST_IMAGE_PATHS = sorted(list(PATH_TO_TEST_IMAGES_DIR.glob(\"*.jpg\")))\n",
        "TEST_IMAGE_PATHS"
      ],
      "execution_count": 0,
      "outputs": []
    },
    {
      "cell_type": "code",
      "metadata": {
        "id": "lS5gF5nEFDmS",
        "colab_type": "code",
        "colab": {}
      },
      "source": [
        "PATH_TO_TEST_IMAGES_DIR = pathlib.Path('models/research/object_detection/test_images/approach1_sample')\n",
        "TEST_IMAGE_PATHS = sorted(list(PATH_TO_TEST_IMAGES_DIR.glob(\"*.jpg\")))\n",
        "TEST_IMAGE_PATHS"
      ],
      "execution_count": 0,
      "outputs": []
    },
    {
      "cell_type": "code",
      "metadata": {
        "id": "bSTVF1JqG6t-",
        "colab_type": "code",
        "colab": {}
      },
      "source": [
        "PATH_TO_TEST_IMAGES_DIR = pathlib.Path('models/research/object_detection/test_images/approach1_sample_saturated')\n",
        "TEST_IMAGE_PATHS = sorted(list(PATH_TO_TEST_IMAGES_DIR.glob(\"*.jpg\")))\n",
        "TEST_IMAGE_PATHS"
      ],
      "execution_count": 0,
      "outputs": []
    },
    {
      "cell_type": "code",
      "metadata": {
        "id": "voHn_yi2IExS",
        "colab_type": "code",
        "colab": {}
      },
      "source": [
        "PATH_TO_TEST_IMAGES_DIR = pathlib.Path('models/research/object_detection/test_images/appraoch1_sample_super_saturated')\n",
        "TEST_IMAGE_PATHS = sorted(list(PATH_TO_TEST_IMAGES_DIR.glob(\"*.jpg\")))\n",
        "TEST_IMAGE_PATHS"
      ],
      "execution_count": 0,
      "outputs": []
    },
    {
      "cell_type": "code",
      "metadata": {
        "id": "4bnT0cTpJrPW",
        "colab_type": "code",
        "colab": {}
      },
      "source": [
        "PATH_TO_TEST_IMAGES_DIR = pathlib.Path('models/research/object_detection/test_images/appraoch1_sample_super_saturated')\n",
        "TEST_IMAGE_PATHS = sorted(list(PATH_TO_TEST_IMAGES_DIR.glob(\"*.jpg\")))\n",
        "TEST_IMAGE_PATHS"
      ],
      "execution_count": 0,
      "outputs": []
    },
    {
      "cell_type": "code",
      "metadata": {
        "id": "h0tRwKgvDF67",
        "colab_type": "code",
        "colab": {}
      },
      "source": [
        "PATH_TO_TEST_IMAGES_DIR = pathlib.Path('/content/drive/My Drive/Normal_Photo')\n",
        "TEST_IMAGE_PATHS = sorted(list(PATH_TO_TEST_IMAGES_DIR.glob(\"*.jpg\")))\n",
        "TEST_IMAGE_PATHS"
      ],
      "execution_count": 0,
      "outputs": []
    },
    {
      "cell_type": "code",
      "metadata": {
        "id": "wBztc2W9C1gR",
        "colab_type": "code",
        "colab": {}
      },
      "source": [
        "!cd models/research/object_detection/test_images"
      ],
      "execution_count": 0,
      "outputs": []
    },
    {
      "cell_type": "code",
      "metadata": {
        "id": "VDPFPX4WC4tN",
        "colab_type": "code",
        "colab": {}
      },
      "source": [
        "!ls -A"
      ],
      "execution_count": 0,
      "outputs": []
    },
    {
      "cell_type": "markdown",
      "metadata": {
        "colab_type": "text",
        "id": "H0_1AGhrWKMc"
      },
      "source": [
        "# Detection"
      ]
    },
    {
      "cell_type": "markdown",
      "metadata": {
        "colab_type": "text",
        "id": "f7aOtOlebK7h"
      },
      "source": [
        "Load an object detection model:"
      ]
    },
    {
      "cell_type": "code",
      "metadata": {
        "colab_type": "code",
        "id": "1XNT0wxybKR6",
        "colab": {}
      },
      "source": [
        "model_name = 'ssd_mobilenet_v1_coco_2017_11_17'\n",
        "detection_model = load_model(model_name)"
      ],
      "execution_count": 0,
      "outputs": []
    },
    {
      "cell_type": "markdown",
      "metadata": {
        "colab_type": "text",
        "id": "yN1AYfAEJIGp"
      },
      "source": [
        "Check the model's input signature, it expects a batch of 3-color images of type uint8: "
      ]
    },
    {
      "cell_type": "code",
      "metadata": {
        "colab_type": "code",
        "id": "CK4cnry6wsHY",
        "colab": {}
      },
      "source": [
        "print(detection_model.inputs)"
      ],
      "execution_count": 0,
      "outputs": []
    },
    {
      "cell_type": "markdown",
      "metadata": {
        "colab_type": "text",
        "id": "Q8u3BjpMJXZF"
      },
      "source": [
        "And retuns several outputs:"
      ]
    },
    {
      "cell_type": "code",
      "metadata": {
        "colab_type": "code",
        "id": "oLSZpfaYwuSk",
        "colab": {}
      },
      "source": [
        "detection_model.output_dtypes"
      ],
      "execution_count": 0,
      "outputs": []
    },
    {
      "cell_type": "code",
      "metadata": {
        "colab_type": "code",
        "id": "FZyKUJeuxvpT",
        "colab": {}
      },
      "source": [
        "detection_model.output_shapes"
      ],
      "execution_count": 0,
      "outputs": []
    },
    {
      "cell_type": "markdown",
      "metadata": {
        "colab_type": "text",
        "id": "JP5qZ7sXJpwG"
      },
      "source": [
        "Add a wrapper function to call the model, and cleanup the outputs:"
      ]
    },
    {
      "cell_type": "code",
      "metadata": {
        "colab_type": "code",
        "id": "ajmR_exWyN76",
        "colab": {}
      },
      "source": [
        "def run_inference_for_single_image(model, image):\n",
        "  image = np.asarray(image)\n",
        "  # The input needs to be a tensor, convert it using `tf.convert_to_tensor`.\n",
        "  input_tensor = tf.convert_to_tensor(image)\n",
        "  # The model expects a batch of images, so add an axis with `tf.newaxis`.\n",
        "  input_tensor = input_tensor[tf.newaxis,...]\n",
        "\n",
        "  # Run inference\n",
        "  output_dict = model(input_tensor)\n",
        "\n",
        "  # All outputs are batches tensors.\n",
        "  # Convert to numpy arrays, and take index [0] to remove the batch dimension.\n",
        "  # We're only interested in the first num_detections.\n",
        "  num_detections = int(output_dict.pop('num_detections'))\n",
        "  output_dict = {key:value[0, :num_detections].numpy() \n",
        "                 for key,value in output_dict.items()}\n",
        "  output_dict['num_detections'] = num_detections\n",
        "\n",
        "  # detection_classes should be ints.\n",
        "  output_dict['detection_classes'] = output_dict['detection_classes'].astype(np.int64)\n",
        "   \n",
        "  # Handle models with masks:\n",
        "  if 'detection_masks' in output_dict:\n",
        "    # Reframe the the bbox mask to the image size.\n",
        "    detection_masks_reframed = utils_ops.reframe_box_masks_to_image_masks(\n",
        "              output_dict['detection_masks'], output_dict['detection_boxes'],\n",
        "               image.shape[0], image.shape[1])      \n",
        "    detection_masks_reframed = tf.cast(detection_masks_reframed > 0.5,\n",
        "                                       tf.uint8)\n",
        "    output_dict['detection_masks_reframed'] = detection_masks_reframed.numpy()\n",
        "    \n",
        "  return output_dict"
      ],
      "execution_count": 0,
      "outputs": []
    },
    {
      "cell_type": "markdown",
      "metadata": {
        "colab_type": "text",
        "id": "z1wq0LVyMRR_"
      },
      "source": [
        "Run it on each test image and show the results:"
      ]
    },
    {
      "cell_type": "code",
      "metadata": {
        "colab_type": "code",
        "id": "DWh_1zz6aqxs",
        "colab": {}
      },
      "source": [
        "def show_inference(model, image_path):\n",
        "  # the array based representation of the image will be used later in order to prepare the\n",
        "  # result image with boxes and labels on it.\n",
        "  image_np = np.array(Image.open(image_path))\n",
        "  # Actual detection.\n",
        "  output_dict = run_inference_for_single_image(model, image_np)\n",
        "  # Visualization of the results of a detection.\n",
        "  vis_util.visualize_boxes_and_labels_on_image_array(\n",
        "      image_np,\n",
        "      output_dict['detection_boxes'],\n",
        "      output_dict['detection_classes'],\n",
        "      output_dict['detection_scores'],\n",
        "      category_index,\n",
        "      instance_masks=output_dict.get('detection_masks_reframed', None),\n",
        "      use_normalized_coordinates=True,\n",
        "      line_thickness=8)\n",
        "\n",
        "  display(Image.fromarray(image_np))"
      ],
      "execution_count": 0,
      "outputs": []
    },
    {
      "cell_type": "code",
      "metadata": {
        "colab_type": "code",
        "id": "3a5wMHN8WKMh",
        "colab": {}
      },
      "source": [
        "for image_path in TEST_IMAGE_PATHS:\n",
        "  show_inference(detection_model, image_path)\n"
      ],
      "execution_count": 0,
      "outputs": []
    },
    {
      "cell_type": "markdown",
      "metadata": {
        "colab_type": "text",
        "id": "DsspMPX3Cssg"
      },
      "source": [
        "## Instance Segmentation"
      ]
    },
    {
      "cell_type": "code",
      "metadata": {
        "colab_type": "code",
        "id": "CzkVv_n2MxKC",
        "colab": {}
      },
      "source": [
        "model_name = \"mask_rcnn_inception_resnet_v2_atrous_coco_2018_01_28\"\n",
        "masking_model = load_model(\"mask_rcnn_inception_resnet_v2_atrous_coco_2018_01_28\")"
      ],
      "execution_count": 0,
      "outputs": []
    },
    {
      "cell_type": "markdown",
      "metadata": {
        "colab_type": "text",
        "id": "0S7aZi8ZOhVV"
      },
      "source": [
        "The instance segmentation model includes a `detection_masks` output:"
      ]
    },
    {
      "cell_type": "code",
      "metadata": {
        "colab_type": "code",
        "id": "vQ2Sj2VIOZLA",
        "colab": {}
      },
      "source": [
        "masking_model.output_shapes"
      ],
      "execution_count": 0,
      "outputs": []
    },
    {
      "cell_type": "code",
      "metadata": {
        "colab_type": "code",
        "id": "AS57rZlnNL7W",
        "colab": {}
      },
      "source": [
        "for image_path in TEST_IMAGE_PATHS:\n",
        "  show_inference(masking_model, image_path)"
      ],
      "execution_count": 0,
      "outputs": []
    },
    {
      "cell_type": "code",
      "metadata": {
        "colab_type": "code",
        "id": "nLlmm9JojEKm",
        "colab": {}
      },
      "source": [
        ""
      ],
      "execution_count": 0,
      "outputs": []
    },
    {
      "cell_type": "markdown",
      "metadata": {
        "id": "xzMvntydFxwI",
        "colab_type": "text"
      },
      "source": [
        "Training the autonomous submarine model"
      ]
    },
    {
      "cell_type": "code",
      "metadata": {
        "id": "v-2VuaBsF1Tq",
        "colab_type": "code",
        "colab": {}
      },
      "source": [
        "#Getting xml files into model\n"
      ],
      "execution_count": 0,
      "outputs": []
    }
  ]
}